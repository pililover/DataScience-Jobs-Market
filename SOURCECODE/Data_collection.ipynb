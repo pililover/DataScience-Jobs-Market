{
 "cells": [
  {
   "cell_type": "markdown",
   "metadata": {},
   "source": [
    "<div style=\"font-family: Arial, Helvetica, sans-serif;\">\n",
    "    <div style=\"display: flex;padding-top: 20px\">\n",
    "        <div><strong>Course:</strong> Introduction to Data Science</div>\n",
    "    </div>\n",
    "    <div style=\"display: flex;padding-top: 20px\">\n",
    "        <div style=\"padding-right: 10px;\"><strong>Class:</strong> KHDL1</div>\n",
    "        <div></div>\n",
    "    </div>\n",
    "    <div style=\"display: flex;padding-top: 20px\">\n",
    "        <div style=\"padding-right: 10px;\"><strong>Group:</strong> 11 - HAHA</div>\n",
    "    </div>\n",
    "    <div>\n",
    "        <div style=\"display: flex;padding-top: 20px\">\n",
    "            <div style=\"padding-right: 10px;\"><strong>Members:</strong></div>\n",
    "            <div></div>\n",
    "        </div>\n",
    "        <table style=\"font-size: 15px; display:flex;padding-top: 20px\">\n",
    "            <tr>\n",
    "                <th>No.</th>\n",
    "                <th>Student ID</th>\n",
    "                <th>Name</th>\n",
    "            </tr>\n",
    "            <tr>\n",
    "                <td>1</td>\n",
    "                <td>22127008</td>\n",
    "                <td style=\"text-align:left;\">Đặng Châu Anh</td>\n",
    "            </tr>\n",
    "            <tr>\n",
    "                <td>2</td>\n",
    "                <td>22127014</td>\n",
    "                <td style=\"text-align:left;\">Nguyễn Kim Anh</td>\n",
    "            </tr>\n",
    "            <tr>\n",
    "                <td>3</td>\n",
    "                <td>22127147</td>\n",
    "                <td style=\"text-align:left;\">Đỗ Minh Huy</td>\n",
    "            </tr>\n",
    "            <tr>\n",
    "                <td>4</td>\n",
    "                <td>22127170</td>\n",
    "                <td style=\"text-align:left;\">Trần Dịu Huyền</td>\n",
    "            </tr>\n",
    "        </table>\n",
    "    </div>\n",
    "    <div style=\"font-size: 25px ;font-weight: 800; text-align: center;padding-top: 20px;\">FINAL PROJECT</div>\n",
    "    <div style=\"font-size: 20px ;font-weight: 800; text-align: center;padding-top: 20px;\">SPOTIFY 2024 REWIND - DATA COLLECTION</div>\n",
    "</div>"
   ]
  },
  {
   "cell_type": "markdown",
   "metadata": {},
   "source": [
    "# **Data Description**\n",
    "## **1. Objective**\n",
    "Spotify, a leading music streaming platform, has gained significant popularity in Vietnam. Its charts offer real-time insights into the evolving music preferences of Vietnamese listeners. This project involves some actionable steps:\n",
    "-    Gathering Spotify streaming data specific to Vietnam.\n",
    "-    Analyzing trends, identifying popular songs, albums, and artists.\n",
    "-    Presenting the findings in a way that provides insights into local music preferences.\n",
    "## **2. Purpose**\n",
    "The Vietnamese music industry has significant growth in 2024, with a surge in both quantity and quality of music products. This project uses Spotify data to better understand the changing tastes of Vietnamese listeners. By identifying popular songs, albums, and new trends, the project will provide useful insights to help industry professionals, artists, and fans stay updated on current music preferences.\n",
    "## **3. Data Source**\n",
    "- Data are scraped from two websites that provide weekly top 200 music charts in Viet Nam: https://charts.spotify.com/charts/overview/vn\n",
    "- The data spans from January 1, 2024 – October 31, 2024"
   ]
  },
  {
   "cell_type": "markdown",
   "metadata": {},
   "source": [
    "# **Import Library**\n",
    "\n",
    "- Our data source of this project is a dynamic website, so we need to use `Selenium` to scrape the data.\n",
    "- We also use `BeautifulSoup` to parse the HTML content.\n",
    "- We use `pandas` to store the scraped data into DataFrame.\n",
    "- We use `time` to handle the delay between requests to avoid overloading the maximum number of requests.\n",
    "- We use `os` to handle the file system."
   ]
  },
  {
   "cell_type": "code",
   "execution_count": 3,
   "metadata": {},
   "outputs": [],
   "source": [
    "from selenium import webdriver\n",
    "from selenium.webdriver.chrome.service import Service\n",
    "from selenium.webdriver.chrome.options import Options\n",
    "from selenium.webdriver.common.by import By\n",
    "from selenium.webdriver.support.ui import WebDriverWait\n",
    "from selenium.common.exceptions import NoSuchElementException, TimeoutException\n",
    "from selenium.webdriver.support import expected_conditions as EC\n",
    "from selenium.webdriver.common.keys import Keys\n",
    "from selenium.webdriver.common.action_chains import ActionChains\n",
    "import time as t\n",
    "import pandas as pd\n",
    "from bs4 import BeautifulSoup\n",
    "import os"
   ]
  },
  {
   "cell_type": "markdown",
   "metadata": {},
   "source": [
    "# **Data Collection**"
   ]
  },
  {
   "cell_type": "markdown",
   "metadata": {},
   "source": [
    "First, we need to set up the chromedriver to use Selenium."
   ]
  },
  {
   "cell_type": "code",
   "execution_count": null,
   "metadata": {},
   "outputs": [],
   "source": [
    "def initialize_chrome_driver(user_name=\"ACER\"):\n",
    "   \"\"\"\n",
    "   Initialize Chrome WebDriver with specific configurations\n",
    "   \n",
    "   Args:\n",
    "       user_name (str): Windows username for Chrome profile path\n",
    "       \n",
    "   Returns:\n",
    "       webdriver.Chrome: Configured Chrome WebDriver instance\n",
    "   \"\"\"\n",
    "   # Set Chrome profile path based on Windows username\n",
    "   chrome_profile_path = f\"C:/Users/{user_name}/AppData/Local/Google/Chrome/User Data\"\n",
    "   \n",
    "   # Configure Chrome options\n",
    "   chrome_options = Options()\n",
    "   chrome_options.add_argument(\"--no-sandbox\")\n",
    "   chrome_options.add_argument(\"window-size=1920,1080\")\n",
    "   chrome_options.add_argument(f\"user-data-dir={chrome_profile_path}\")\n",
    "   chrome_options.add_argument(\"profile-directory=Default\")\n",
    "   \n",
    "   # Configure download preferences\n",
    "   chrome_options.add_experimental_option(\"prefs\", {\n",
    "       \"download.default_directory\": os.getcwd() + '\\Data',\n",
    "       \"download.prompt_for_download\": False,\n",
    "       \"profile.default_content_setting_values.automatic_downloads\": 1,\n",
    "       \"profile.default_content_setting_values.popups\": 0,\n",
    "   })\n",
    "   \n",
    "   # Initialize and return WebDriver\n",
    "   return webdriver.Chrome(\n",
    "       # Your path that contains chromedriver\n",
    "       service=Service(\"C:/Program Files/chromedriver/chromedriver.exe\"), \n",
    "       options=chrome_options\n",
    "   )"
   ]
  },
  {
   "cell_type": "markdown",
   "metadata": {},
   "source": [
    "Then, we want to get the data of the top 200 songs of the year 2024 on Spotify, so we decide to scrape the data at the last week of each month in 2024."
   ]
  },
  {
   "cell_type": "code",
   "execution_count": 1,
   "metadata": {},
   "outputs": [],
   "source": [
    "def calculate_week_details(month, last_day, months):\n",
    "   \"\"\"\n",
    "   Calculate weekly details for Spotify charts URL\n",
    "   \n",
    "   Args:\n",
    "       month (int): Current month\n",
    "       last_day (int): Last day of previous week\n",
    "       months (dict): Dictionary of days in each month\n",
    "       \n",
    "   Returns:\n",
    "       tuple: (updated_month, updated_last_day, url)\n",
    "   \"\"\"\n",
    "   # Calculate first day of last week\n",
    "   begin_day = ((months[month] - last_day - 1)//7)*7 + last_day + 1\n",
    "   \n",
    "   # Calculate last day of current week\n",
    "   last_day = 7 - (months[month] - begin_day) - 1\n",
    "   save_last_day = last_day\n",
    "   \n",
    "   # Adjust last day within month boundaries\n",
    "   last_day = last_day if last_day > 0 else months[month]\n",
    "   \n",
    "   # Check if moving to next month\n",
    "   month = month + 1 if last_day >= 1 and last_day < 7 else month\n",
    "   \n",
    "   # Construct URL\n",
    "   url = f\"https://charts.spotify.com/charts/view/regional-vn-weekly/2024-{month:02d}-{last_day:02d}\"\n",
    "   \n",
    "   return month, save_last_day, url"
   ]
  },
  {
   "cell_type": "markdown",
   "metadata": {},
   "source": [
    "Finally, we will get data by using `Selenium` to automate the browser and scrape the data from the website. The csv file stored data will be saved in the `./SOURCECODE/data` folder."
   ]
  },
  {
   "cell_type": "code",
   "execution_count": null,
   "metadata": {},
   "outputs": [],
   "source": [
    "def download_spotify_charts(end_month=10):\n",
    "   \"\"\"\n",
    "   Download Spotify charts data for specified months\n",
    "   \n",
    "   Args:\n",
    "       end_month (int): Last month to download (default: 10)\n",
    "   \"\"\"\n",
    "   # Dictionary of days in each month (2024 leap year)\n",
    "   months = {1:31, 2:29, 3:31, 4:30, 5:31, 6:30, 7:31, 8:31, 9:30, 10:31, 11:30, 12:31}\n",
    "   \n",
    "   # Initialize Chrome\n",
    "   browser = initialize_chrome_driver()\n",
    "   \n",
    "   # Initialize tracking variables\n",
    "   last_day, month, current_month = 1, 1, 1\n",
    "   \n",
    "   # Process charts from January to specified end month\n",
    "   while month <= end_month:\n",
    "       if month == 1:\n",
    "           url = \"https://charts.spotify.com/charts/view/regional-vn-weekly/2024-02-01\"\n",
    "           month += 1\n",
    "       else:\n",
    "           month, last_day, url = calculate_week_details(month, last_day, months)\n",
    "       \n",
    "       # Download chart data\n",
    "       browser.get(url)\n",
    "       download_button = WebDriverWait(browser, 10).until(\n",
    "           EC.element_to_be_clickable((By.CSS_SELECTOR, 'button[data-encore-id=\"buttonTertiary\"]'))\n",
    "       )\n",
    "       download_button.click()\n",
    "       \n",
    "       # Update month tracking\n",
    "       if current_month < month:\n",
    "           current_month += 1\n",
    "       elif current_month == month:\n",
    "           month += 1\n",
    "           current_month += 1\n",
    "\n",
    "download_spotify_charts(end_month=10)"
   ]
  },
  {
   "cell_type": "markdown",
   "metadata": {},
   "source": [
    "All the csv data files has the same name format `regional-vn-weekly-2024-xx-xx.csv` with `xx-xx` is the date of the last week of each month in 2024.\n",
    "\n",
    "All the data files will be stored in the `./SOURCECODE/data` folder.\n",
    "\n",
    "All the data files will be merged into a single file named `spotify-2024-vn.csv` and add the column `week` to indicate the week of the data in Data Exploration step."
   ]
  },
  {
   "cell_type": "markdown",
   "metadata": {},
   "source": [
    "# **Verify data**\n",
    "\n",
    "Read all downloaded files and store to DataFrame"
   ]
  },
  {
   "cell_type": "code",
   "execution_count": 9,
   "metadata": {},
   "outputs": [],
   "source": [
    "data = pd.DataFrame()\n",
    "for file in os.listdir('./SOURCECODE/data'):\n",
    "    if file.endswith('.csv'):\n",
    "        df = pd.read_csv(f'./SOURCECODE/data/{file}')\n",
    "        data = pd.concat([data, df], ignore_index=True)  # Concatenate all csv files into one DataFrame"
   ]
  },
  {
   "cell_type": "markdown",
   "metadata": {},
   "source": [
    "Take a look at the data information by using the `info()` function."
   ]
  },
  {
   "cell_type": "code",
   "execution_count": 10,
   "metadata": {},
   "outputs": [
    {
     "name": "stdout",
     "output_type": "stream",
     "text": [
      "<class 'pandas.core.frame.DataFrame'>\n",
      "RangeIndex: 1800 entries, 0 to 1799\n",
      "Data columns (total 9 columns):\n",
      " #   Column          Non-Null Count  Dtype \n",
      "---  ------          --------------  ----- \n",
      " 0   rank            1800 non-null   int64 \n",
      " 1   uri             1800 non-null   object\n",
      " 2   artist_names    1800 non-null   object\n",
      " 3   track_name      1800 non-null   object\n",
      " 4   source          1800 non-null   object\n",
      " 5   peak_rank       1800 non-null   int64 \n",
      " 6   previous_rank   1800 non-null   int64 \n",
      " 7   weeks_on_chart  1800 non-null   int64 \n",
      " 8   streams         1800 non-null   int64 \n",
      "dtypes: int64(5), object(4)\n",
      "memory usage: 126.7+ KB\n"
     ]
    }
   ],
   "source": [
    "data.info()"
   ]
  },
  {
   "cell_type": "markdown",
   "metadata": {},
   "source": [
    "Verify the data by checking the project requirements: at least 5 columns, 1000 rows"
   ]
  },
  {
   "cell_type": "code",
   "execution_count": 13,
   "metadata": {},
   "outputs": [],
   "source": [
    "def verify_dataset(data):\n",
    "    \"\"\"\n",
    "    Verify dataset for project requirements: at least 1000 rows and 5 columns\n",
    "   \n",
    "    Args:\n",
    "        data (pd.DataFrame): Input dataset\n",
    "    \"\"\"\n",
    "    assert data.shape[0] >= 1000, \"Dataset must have at least 1000 rows\"\n",
    "    assert data.shape[1] >= 5, \"Dataset must have at least 5 columns\"\n",
    "    print(\"Dataset verified successfully\")"
   ]
  }
 ],
 "metadata": {
  "kernelspec": {
   "display_name": "Python 3 (ipykernel)",
   "language": "python",
   "name": "python3"
  }
 },
 "nbformat": 4,
 "nbformat_minor": 2
}
