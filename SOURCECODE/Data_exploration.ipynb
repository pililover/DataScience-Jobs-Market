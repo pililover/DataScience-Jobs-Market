{
 "cells": [
  {
   "cell_type": "markdown",
   "metadata": {},
   "source": [
    "<div style=\"font-family: Arial, Helvetica, sans-serif;\">\n",
    "    <div style=\"display: flex;padding-top: 20px\">\n",
    "        <div><strong>Course:</strong> Introduction to Data Science</div>\n",
    "    </div>\n",
    "    <div style=\"display: flex;padding-top: 20px\">\n",
    "        <div style=\"padding-right: 10px;\"><strong>Class:</strong> KHDL1</div>\n",
    "        <div></div>\n",
    "    </div>\n",
    "    <div style=\"display: flex;padding-top: 20px\">\n",
    "        <div style=\"padding-right: 10px;\"><strong>Group:</strong> 11 - HAHA</div>\n",
    "    </div>\n",
    "    <div>\n",
    "        <div style=\"display: flex;padding-top: 20px\">\n",
    "            <div style=\"padding-right: 10px;\"><strong>Members:</strong></div>\n",
    "            <div></div>\n",
    "        </div>\n",
    "        <table style=\"font-size: 15px; display:flex;padding-top: 20px\">\n",
    "            <tr>\n",
    "                <th>No.</th>\n",
    "                <th>Student ID</th>\n",
    "                <th>Name</th>\n",
    "            </tr>\n",
    "            <tr>\n",
    "                <td>1</td>\n",
    "                <td>22127008</td>\n",
    "                <td style=\"text-align:left;\">Đặng Châu Anh</td>\n",
    "            </tr>\n",
    "            <tr>\n",
    "                <td>2</td>\n",
    "                <td>22127014</td>\n",
    "                <td style=\"text-align:left;\">Nguyễn Kim Anh</td>\n",
    "            </tr>\n",
    "            <tr>\n",
    "                <td>3</td>\n",
    "                <td>22127147</td>\n",
    "                <td style=\"text-align:left;\">Đỗ Minh Huy</td>\n",
    "            </tr>\n",
    "            <tr>\n",
    "                <td>4</td>\n",
    "                <td>22127170</td>\n",
    "                <td style=\"text-align:left;\">Trần Dịu Huyền</td>\n",
    "            </tr>\n",
    "        </table>\n",
    "    </div>\n",
    "    <div style=\"font-size: 25px ;font-weight: 800; text-align: center;padding-top: 20px;\">FINAL PROJECT</div>\n",
    "    <div style=\"font-size: 20px ;font-weight: 800; text-align: center;padding-top: 20px;\">SPOTIFY 2024 REWIND - DATA EXPLORATION</div>\n",
    "</div>"
   ]
  },
  {
   "cell_type": "markdown",
   "metadata": {},
   "source": [
    "# **Data Exploration**\n",
    "## **Import libraries**"
   ]
  },
  {
   "cell_type": "code",
   "execution_count": 1,
   "metadata": {},
   "outputs": [],
   "source": [
    "import pandas as pd\n",
    "import numpy as np"
   ]
  },
  {
   "cell_type": "markdown",
   "metadata": {},
   "source": [
    "## **Read data from csv data files**\n",
    "\n",
    "Read data from 9 csv data files in folder `./SOURCECODE/data` into a DataFrame."
   ]
  }
 ],
 "metadata": {
  "kernelspec": {
   "display_name": "Python 3 (ipykernel)",
   "language": "python",
   "name": "python3"
  },
  "language_info": {
   "codemirror_mode": {
    "name": "ipython",
    "version": 3
   },
   "file_extension": ".py",
   "mimetype": "text/x-python",
   "name": "python",
   "nbconvert_exporter": "python",
   "pygments_lexer": "ipython3",
   "version": "3.10.15"
  }
 },
 "nbformat": 4,
 "nbformat_minor": 2
}
