{
 "cells": [
  {
   "cell_type": "markdown",
   "metadata": {},
   "source": [
    "<div style=\"font-family: Arial, Helvetica, sans-serif;\">\n",
    "    <div style=\"display: flex;padding-top: 20px\">\n",
    "        <div><strong>Course:</strong> Introduction to Data Science</div>\n",
    "    </div>\n",
    "    <div style=\"display: flex;padding-top: 20px\">\n",
    "        <div style=\"padding-right: 10px;\"><strong>Class:</strong> KHDL1</div>\n",
    "        <div></div>\n",
    "    </div>\n",
    "    <div style=\"display: flex;padding-top: 20px\">\n",
    "        <div style=\"padding-right: 10px;\"><strong>Group:</strong> 11 - HAHA</div>\n",
    "    </div>\n",
    "    <div>\n",
    "        <div style=\"display: flex;padding-top: 20px\">\n",
    "            <div style=\"padding-right: 10px;\"><strong>Members:</strong></div>\n",
    "            <div></div>\n",
    "        </div>\n",
    "        <table style=\"font-size: 15px; display:flex;padding-top: 20px\">\n",
    "            <tr>\n",
    "                <th>No.</th>\n",
    "                <th>Student ID</th>\n",
    "                <th>Name</th>\n",
    "            </tr>\n",
    "            <tr>\n",
    "                <td>1</td>\n",
    "                <td>22127008</td>\n",
    "                <td style=\"text-align:left;\">Đặng Châu Anh</td>\n",
    "            </tr>\n",
    "            <tr>\n",
    "                <td>2</td>\n",
    "                <td>22127014</td>\n",
    "                <td style=\"text-align:left;\">Nguyễn Kim Anh</td>\n",
    "            </tr>\n",
    "            <tr>\n",
    "                <td>3</td>\n",
    "                <td>22127147</td>\n",
    "                <td style=\"text-align:left;\">Đỗ Minh Huy</td>\n",
    "            </tr>\n",
    "            <tr>\n",
    "                <td>4</td>\n",
    "                <td>22127170</td>\n",
    "                <td style=\"text-align:left;\">Trần Dịu Huyền</td>\n",
    "            </tr>\n",
    "        </table>\n",
    "    </div>\n",
    "    <div style=\"font-size: 25px ;font-weight: 800; text-align: center;padding-top: 20px;\">FINAL PROJECT</div>\n",
    "    <div style=\"font-size: 20px ;font-weight: 800; text-align: center;padding-top: 20px;\">SPOTIFY 2024 REWIND - DATA EXPLORATION</div>\n",
    "</div>"
   ]
  },
  {
   "cell_type": "markdown",
   "metadata": {},
   "source": [
    "# **Data Exploration**\n",
    "## **Import libraries**"
   ]
  },
  {
   "cell_type": "code",
   "execution_count": 42,
   "metadata": {},
   "outputs": [],
   "source": [
    "import pandas as pd\n",
    "import numpy as np\n",
    "import glob\n",
    "import matplotlib.pyplot as plt\n",
    "import seaborn as sns\n",
    "import re"
   ]
  },
  {
   "cell_type": "markdown",
   "metadata": {},
   "source": [
    "## **Read data from csv data files**\n",
    "\n",
    "Read data from 9 csv data files in folder `./Data` into a DataFrame.\n",
    "\n",
    "Each file corresponds to a different month, and we assign a `month` column to indicate the respective month for each file."
   ]
  },
  {
   "cell_type": "code",
   "execution_count": 43,
   "metadata": {},
   "outputs": [
    {
     "data": {
      "text/html": [
       "<div>\n",
       "<style scoped>\n",
       "    .dataframe tbody tr th:only-of-type {\n",
       "        vertical-align: middle;\n",
       "    }\n",
       "\n",
       "    .dataframe tbody tr th {\n",
       "        vertical-align: top;\n",
       "    }\n",
       "\n",
       "    .dataframe thead th {\n",
       "        text-align: right;\n",
       "    }\n",
       "</style>\n",
       "<table border=\"1\" class=\"dataframe\">\n",
       "  <thead>\n",
       "    <tr style=\"text-align: right;\">\n",
       "      <th></th>\n",
       "      <th>rank</th>\n",
       "      <th>uri</th>\n",
       "      <th>artist_names</th>\n",
       "      <th>track_name</th>\n",
       "      <th>source</th>\n",
       "      <th>peak_rank</th>\n",
       "      <th>previous_rank</th>\n",
       "      <th>weeks_on_chart</th>\n",
       "      <th>streams</th>\n",
       "      <th>month</th>\n",
       "    </tr>\n",
       "  </thead>\n",
       "  <tbody>\n",
       "    <tr>\n",
       "      <th>0</th>\n",
       "      <td>1</td>\n",
       "      <td>spotify:track:2HRgqmZQC0MC7GeNuDIXHN</td>\n",
       "      <td>Jung Kook, Latto</td>\n",
       "      <td>Seven (feat. Latto) (Explicit Ver.)</td>\n",
       "      <td>BIGHIT MUSIC</td>\n",
       "      <td>1</td>\n",
       "      <td>1</td>\n",
       "      <td>29</td>\n",
       "      <td>1178606</td>\n",
       "      <td>1</td>\n",
       "    </tr>\n",
       "    <tr>\n",
       "      <th>1</th>\n",
       "      <td>2</td>\n",
       "      <td>spotify:track:4qYfRfSxsmhJ1WMaywtLyI</td>\n",
       "      <td>Wren Evans, itsnk</td>\n",
       "      <td>Từng Quen</td>\n",
       "      <td>Universal Music Indochina</td>\n",
       "      <td>1</td>\n",
       "      <td>2</td>\n",
       "      <td>14</td>\n",
       "      <td>1087520</td>\n",
       "      <td>1</td>\n",
       "    </tr>\n",
       "    <tr>\n",
       "      <th>2</th>\n",
       "      <td>3</td>\n",
       "      <td>spotify:track:0X28PqBpbQhWdi4usYw0w5</td>\n",
       "      <td>Wren Evans, itsnk</td>\n",
       "      <td>Tò Te Tí</td>\n",
       "      <td>Universal Music Indochina</td>\n",
       "      <td>3</td>\n",
       "      <td>4</td>\n",
       "      <td>7</td>\n",
       "      <td>1036739</td>\n",
       "      <td>1</td>\n",
       "    </tr>\n",
       "    <tr>\n",
       "      <th>3</th>\n",
       "      <td>4</td>\n",
       "      <td>spotify:track:1khMN4Adfi3LrZvxOq4YM5</td>\n",
       "      <td>VSOUL, RPT MCK, Obito, Ronboogz, Boyzed</td>\n",
       "      <td>Buồn Hay Vui (feat. RPT MCK, Obito, Ronboogz &amp;...</td>\n",
       "      <td>12 trái lê</td>\n",
       "      <td>3</td>\n",
       "      <td>5</td>\n",
       "      <td>6</td>\n",
       "      <td>919584</td>\n",
       "      <td>1</td>\n",
       "    </tr>\n",
       "    <tr>\n",
       "      <th>4</th>\n",
       "      <td>5</td>\n",
       "      <td>spotify:track:1bG6Q8sR8jda7ryI365y8o</td>\n",
       "      <td>Vũ., Dear Jane</td>\n",
       "      <td>Những Lời Hứa Bỏ Quên</td>\n",
       "      <td>WM Vietnam</td>\n",
       "      <td>1</td>\n",
       "      <td>3</td>\n",
       "      <td>7</td>\n",
       "      <td>856107</td>\n",
       "      <td>1</td>\n",
       "    </tr>\n",
       "    <tr>\n",
       "      <th>...</th>\n",
       "      <td>...</td>\n",
       "      <td>...</td>\n",
       "      <td>...</td>\n",
       "      <td>...</td>\n",
       "      <td>...</td>\n",
       "      <td>...</td>\n",
       "      <td>...</td>\n",
       "      <td>...</td>\n",
       "      <td>...</td>\n",
       "      <td>...</td>\n",
       "    </tr>\n",
       "    <tr>\n",
       "      <th>1995</th>\n",
       "      <td>196</td>\n",
       "      <td>spotify:track:7sZgr8RsXkDwkmiQok691a</td>\n",
       "      <td>Thịnh Suy</td>\n",
       "      <td>Mai Mình Xa</td>\n",
       "      <td>InQ International</td>\n",
       "      <td>85</td>\n",
       "      <td>187</td>\n",
       "      <td>28</td>\n",
       "      <td>145969</td>\n",
       "      <td>10</td>\n",
       "    </tr>\n",
       "    <tr>\n",
       "      <th>1996</th>\n",
       "      <td>197</td>\n",
       "      <td>spotify:track:2M2nM9t0YQoXMTnFH8AXBu</td>\n",
       "      <td>Huỳnh Tú, Andiez</td>\n",
       "      <td>Đường Một Chiều</td>\n",
       "      <td>Huỳnh Tú</td>\n",
       "      <td>114</td>\n",
       "      <td>191</td>\n",
       "      <td>67</td>\n",
       "      <td>145160</td>\n",
       "      <td>10</td>\n",
       "    </tr>\n",
       "    <tr>\n",
       "      <th>1997</th>\n",
       "      <td>198</td>\n",
       "      <td>spotify:track:45Mswno1F7FoZkcmQkp7fi</td>\n",
       "      <td>Wren Evans</td>\n",
       "      <td>Thích Em Hơi Nhiều</td>\n",
       "      <td>Universal Music Indochina</td>\n",
       "      <td>1</td>\n",
       "      <td>-1</td>\n",
       "      <td>168</td>\n",
       "      <td>145003</td>\n",
       "      <td>10</td>\n",
       "    </tr>\n",
       "    <tr>\n",
       "      <th>1998</th>\n",
       "      <td>199</td>\n",
       "      <td>spotify:track:23ep27rDA9gklIzuJ6qzRD</td>\n",
       "      <td>Dương Domic</td>\n",
       "      <td>Yêu Em 2 Ngày</td>\n",
       "      <td>DAO Entertainment</td>\n",
       "      <td>174</td>\n",
       "      <td>-1</td>\n",
       "      <td>5</td>\n",
       "      <td>143566</td>\n",
       "      <td>10</td>\n",
       "    </tr>\n",
       "    <tr>\n",
       "      <th>1999</th>\n",
       "      <td>200</td>\n",
       "      <td>spotify:track:2jcdws2044suWnDo8DTcKC</td>\n",
       "      <td>RAP VIỆT, CoolKid</td>\n",
       "      <td>NẮNG (feat. Coolkid)</td>\n",
       "      <td>DAT VIET VAC</td>\n",
       "      <td>200</td>\n",
       "      <td>-1</td>\n",
       "      <td>1</td>\n",
       "      <td>143534</td>\n",
       "      <td>10</td>\n",
       "    </tr>\n",
       "  </tbody>\n",
       "</table>\n",
       "<p>2000 rows × 10 columns</p>\n",
       "</div>"
      ],
      "text/plain": [
       "      rank                                   uri  \\\n",
       "0        1  spotify:track:2HRgqmZQC0MC7GeNuDIXHN   \n",
       "1        2  spotify:track:4qYfRfSxsmhJ1WMaywtLyI   \n",
       "2        3  spotify:track:0X28PqBpbQhWdi4usYw0w5   \n",
       "3        4  spotify:track:1khMN4Adfi3LrZvxOq4YM5   \n",
       "4        5  spotify:track:1bG6Q8sR8jda7ryI365y8o   \n",
       "...    ...                                   ...   \n",
       "1995   196  spotify:track:7sZgr8RsXkDwkmiQok691a   \n",
       "1996   197  spotify:track:2M2nM9t0YQoXMTnFH8AXBu   \n",
       "1997   198  spotify:track:45Mswno1F7FoZkcmQkp7fi   \n",
       "1998   199  spotify:track:23ep27rDA9gklIzuJ6qzRD   \n",
       "1999   200  spotify:track:2jcdws2044suWnDo8DTcKC   \n",
       "\n",
       "                                 artist_names  \\\n",
       "0                            Jung Kook, Latto   \n",
       "1                           Wren Evans, itsnk   \n",
       "2                           Wren Evans, itsnk   \n",
       "3     VSOUL, RPT MCK, Obito, Ronboogz, Boyzed   \n",
       "4                              Vũ., Dear Jane   \n",
       "...                                       ...   \n",
       "1995                                Thịnh Suy   \n",
       "1996                         Huỳnh Tú, Andiez   \n",
       "1997                               Wren Evans   \n",
       "1998                              Dương Domic   \n",
       "1999                        RAP VIỆT, CoolKid   \n",
       "\n",
       "                                             track_name  \\\n",
       "0                   Seven (feat. Latto) (Explicit Ver.)   \n",
       "1                                             Từng Quen   \n",
       "2                                              Tò Te Tí   \n",
       "3     Buồn Hay Vui (feat. RPT MCK, Obito, Ronboogz &...   \n",
       "4                                 Những Lời Hứa Bỏ Quên   \n",
       "...                                                 ...   \n",
       "1995                                        Mai Mình Xa   \n",
       "1996                                    Đường Một Chiều   \n",
       "1997                                 Thích Em Hơi Nhiều   \n",
       "1998                                      Yêu Em 2 Ngày   \n",
       "1999                               NẮNG (feat. Coolkid)   \n",
       "\n",
       "                         source  peak_rank  previous_rank  weeks_on_chart  \\\n",
       "0                  BIGHIT MUSIC          1              1              29   \n",
       "1     Universal Music Indochina          1              2              14   \n",
       "2     Universal Music Indochina          3              4               7   \n",
       "3                    12 trái lê          3              5               6   \n",
       "4                    WM Vietnam          1              3               7   \n",
       "...                         ...        ...            ...             ...   \n",
       "1995          InQ International         85            187              28   \n",
       "1996                   Huỳnh Tú        114            191              67   \n",
       "1997  Universal Music Indochina          1             -1             168   \n",
       "1998          DAO Entertainment        174             -1               5   \n",
       "1999               DAT VIET VAC        200             -1               1   \n",
       "\n",
       "      streams  month  \n",
       "0     1178606      1  \n",
       "1     1087520      1  \n",
       "2     1036739      1  \n",
       "3      919584      1  \n",
       "4      856107      1  \n",
       "...       ...    ...  \n",
       "1995   145969     10  \n",
       "1996   145160     10  \n",
       "1997   145003     10  \n",
       "1998   143566     10  \n",
       "1999   143534     10  \n",
       "\n",
       "[2000 rows x 10 columns]"
      ]
     },
     "execution_count": 43,
     "metadata": {},
     "output_type": "execute_result"
    }
   ],
   "source": [
    "# Directory path containing CSV files\n",
    "path = './Data'\n",
    "all_files = glob.glob(f\"{path}/*.csv\")\n",
    "\n",
    "# Initialize the month variable and list to store DataFrame\n",
    "month = 1\n",
    "df_month = []\n",
    "\n",
    "# Read each CSV file and assign the corresponding month\n",
    "for file in all_files:\n",
    "    df = pd.read_csv(file)\n",
    "    df['month'] = month\n",
    "    df_month.append(df)\n",
    "    month += 1\n",
    "\n",
    "# Combine all DataFrames into a single DataFrame\n",
    "data = pd.concat(df_month, ignore_index=True)\n",
    "data"
   ]
  },
  {
   "cell_type": "markdown",
   "metadata": {},
   "source": [
    "### **Overview of dataset**\n",
    "\n",
    "In this section, we will explore the structure of the dataset by:\n",
    "\n",
    "- Checking the number of rows and columns to confirm that the dataset has the expected structure."
   ]
  },
  {
   "cell_type": "code",
   "execution_count": 44,
   "metadata": {},
   "outputs": [
    {
     "name": "stdout",
     "output_type": "stream",
     "text": [
      "Number of rows: 2000\n",
      "Number of columns: 10\n"
     ]
    }
   ],
   "source": [
    "print(f\"Number of rows: {data.shape[0]}\")\n",
    "print(f\"Number of columns: {data.shape[1]}\")"
   ]
  },
  {
   "cell_type": "markdown",
   "metadata": {},
   "source": [
    "- Reviewing the data types of each column to ensure they are appropriate (e.g., numerical columns are in integer/float format, categorical columns are in string/object format). This is important for later processing and analysis."
   ]
  },
  {
   "cell_type": "code",
   "execution_count": 45,
   "metadata": {},
   "outputs": [
    {
     "name": "stdout",
     "output_type": "stream",
     "text": [
      "<class 'pandas.core.frame.DataFrame'>\n",
      "RangeIndex: 2000 entries, 0 to 1999\n",
      "Data columns (total 10 columns):\n",
      " #   Column          Non-Null Count  Dtype \n",
      "---  ------          --------------  ----- \n",
      " 0   rank            2000 non-null   int64 \n",
      " 1   uri             2000 non-null   object\n",
      " 2   artist_names    2000 non-null   object\n",
      " 3   track_name      2000 non-null   object\n",
      " 4   source          2000 non-null   object\n",
      " 5   peak_rank       2000 non-null   int64 \n",
      " 6   previous_rank   2000 non-null   int64 \n",
      " 7   weeks_on_chart  2000 non-null   int64 \n",
      " 8   streams         2000 non-null   int64 \n",
      " 9   month           2000 non-null   int64 \n",
      "dtypes: int64(6), object(4)\n",
      "memory usage: 156.4+ KB\n"
     ]
    }
   ],
   "source": [
    "data.info()"
   ]
  },
  {
   "cell_type": "markdown",
   "metadata": {},
   "source": [
    "- Understanding the meaning of each column in the dataset:\n",
    "\n",
    "    Column\tDescription\n",
    "    - `rank`\tPosition of the track on the chart in that week\n",
    "    - `uri`\tUnique identifier for the track on Spotify\n",
    "    - `artist_names`\tName(s) of the artist(s)\n",
    "    - `track_name`\tName of the track\n",
    "    - `source`\tRecord label or distributor\n",
    "    - `peak_rank`\tHighest position the track has reached on the chart\n",
    "    - `previous_rank`\tPosition of the track in the previous week\n",
    "    - `weeks_on_chart`\tNumber of weeks the track has been on the chart\n",
    "    - `streams`\tNumber of times the track was streamed that week\n",
    "    - `month`\tMonth identifier (added manually)"
   ]
  },
  {
   "cell_type": "markdown",
   "metadata": {},
   "source": [
    "- Identifying any missing values or duplicate rows is essential for data quality assurance. This step allows us to handle incomplete data or remove unnecessary duplicates, ensuring a clean dataset."
   ]
  },
  {
   "cell_type": "code",
   "execution_count": 46,
   "metadata": {},
   "outputs": [
    {
     "name": "stdout",
     "output_type": "stream",
     "text": [
      "Missing values per column:\n",
      "rank              0\n",
      "uri               0\n",
      "artist_names      0\n",
      "track_name        0\n",
      "source            0\n",
      "peak_rank         0\n",
      "previous_rank     0\n",
      "weeks_on_chart    0\n",
      "streams           0\n",
      "month             0\n",
      "dtype: int64\n",
      "Number of duplicate rows: 0\n"
     ]
    }
   ],
   "source": [
    "print(\"Missing values per column:\")\n",
    "print(data.isnull().sum())\n",
    "\n",
    "print(\"Number of duplicate rows:\", data.duplicated().sum())"
   ]
  },
  {
   "cell_type": "markdown",
   "metadata": {},
   "source": [
    "- Besides, for categorical columns like `artist_names`, `track_name`, and `source`, we examine the number of unique values. This helps in understanding the diversity of entries, especially for artist and track names, and checks for consistency in source names."
   ]
  },
  {
   "cell_type": "code",
   "execution_count": 47,
   "metadata": {},
   "outputs": [
    {
     "name": "stdout",
     "output_type": "stream",
     "text": [
      "Unique values per categorical column:\n",
      "artist_names: 314 unique values\n",
      "track_name: 441 unique values\n",
      "source: 115 unique values\n"
     ]
    }
   ],
   "source": [
    "print(\"Unique values per categorical column:\")\n",
    "for col in ['artist_names', 'track_name', 'source']:\n",
    "    print(f\"{col}: {data[col].nunique()} unique values\")"
   ]
  },
  {
   "cell_type": "markdown",
   "metadata": {},
   "source": [
    "### **Exploratory Data Analysis (EDA)**\n",
    "In this section, we perform a more in-depth analysis of the dataset to uncover patterns, distributions, and relationships between variables.\n",
    "\n",
    "First, we view summary statistics for all numeric columns to understand basic patterns such as mean, median, min, and max values."
   ]
  },
  {
   "cell_type": "code",
   "execution_count": 48,
   "metadata": {},
   "outputs": [
    {
     "data": {
      "text/html": [
       "<div>\n",
       "<style scoped>\n",
       "    .dataframe tbody tr th:only-of-type {\n",
       "        vertical-align: middle;\n",
       "    }\n",
       "\n",
       "    .dataframe tbody tr th {\n",
       "        vertical-align: top;\n",
       "    }\n",
       "\n",
       "    .dataframe thead th {\n",
       "        text-align: right;\n",
       "    }\n",
       "</style>\n",
       "<table border=\"1\" class=\"dataframe\">\n",
       "  <thead>\n",
       "    <tr style=\"text-align: right;\">\n",
       "      <th></th>\n",
       "      <th>rank</th>\n",
       "      <th>peak_rank</th>\n",
       "      <th>previous_rank</th>\n",
       "      <th>weeks_on_chart</th>\n",
       "      <th>streams</th>\n",
       "      <th>month</th>\n",
       "    </tr>\n",
       "  </thead>\n",
       "  <tbody>\n",
       "    <tr>\n",
       "      <th>count</th>\n",
       "      <td>2000.000000</td>\n",
       "      <td>2000.000000</td>\n",
       "      <td>2000.000000</td>\n",
       "      <td>2000.000000</td>\n",
       "      <td>2.000000e+03</td>\n",
       "      <td>2000.000</td>\n",
       "    </tr>\n",
       "    <tr>\n",
       "      <th>mean</th>\n",
       "      <td>100.500000</td>\n",
       "      <td>32.300000</td>\n",
       "      <td>89.140500</td>\n",
       "      <td>71.844500</td>\n",
       "      <td>2.617987e+05</td>\n",
       "      <td>5.500</td>\n",
       "    </tr>\n",
       "    <tr>\n",
       "      <th>std</th>\n",
       "      <td>57.748744</td>\n",
       "      <td>40.155264</td>\n",
       "      <td>59.095515</td>\n",
       "      <td>68.974655</td>\n",
       "      <td>2.556539e+05</td>\n",
       "      <td>2.873</td>\n",
       "    </tr>\n",
       "    <tr>\n",
       "      <th>min</th>\n",
       "      <td>1.000000</td>\n",
       "      <td>1.000000</td>\n",
       "      <td>-1.000000</td>\n",
       "      <td>1.000000</td>\n",
       "      <td>1.111390e+05</td>\n",
       "      <td>1.000</td>\n",
       "    </tr>\n",
       "    <tr>\n",
       "      <th>25%</th>\n",
       "      <td>50.750000</td>\n",
       "      <td>4.000000</td>\n",
       "      <td>37.000000</td>\n",
       "      <td>17.000000</td>\n",
       "      <td>1.466748e+05</td>\n",
       "      <td>3.000</td>\n",
       "    </tr>\n",
       "    <tr>\n",
       "      <th>50%</th>\n",
       "      <td>100.500000</td>\n",
       "      <td>13.000000</td>\n",
       "      <td>88.000000</td>\n",
       "      <td>49.000000</td>\n",
       "      <td>1.891510e+05</td>\n",
       "      <td>5.500</td>\n",
       "    </tr>\n",
       "    <tr>\n",
       "      <th>75%</th>\n",
       "      <td>150.250000</td>\n",
       "      <td>49.250000</td>\n",
       "      <td>139.000000</td>\n",
       "      <td>107.000000</td>\n",
       "      <td>2.852210e+05</td>\n",
       "      <td>8.000</td>\n",
       "    </tr>\n",
       "    <tr>\n",
       "      <th>max</th>\n",
       "      <td>200.000000</td>\n",
       "      <td>200.000000</td>\n",
       "      <td>200.000000</td>\n",
       "      <td>343.000000</td>\n",
       "      <td>4.066056e+06</td>\n",
       "      <td>10.000</td>\n",
       "    </tr>\n",
       "  </tbody>\n",
       "</table>\n",
       "</div>"
      ],
      "text/plain": [
       "              rank    peak_rank  previous_rank  weeks_on_chart       streams  \\\n",
       "count  2000.000000  2000.000000    2000.000000     2000.000000  2.000000e+03   \n",
       "mean    100.500000    32.300000      89.140500       71.844500  2.617987e+05   \n",
       "std      57.748744    40.155264      59.095515       68.974655  2.556539e+05   \n",
       "min       1.000000     1.000000      -1.000000        1.000000  1.111390e+05   \n",
       "25%      50.750000     4.000000      37.000000       17.000000  1.466748e+05   \n",
       "50%     100.500000    13.000000      88.000000       49.000000  1.891510e+05   \n",
       "75%     150.250000    49.250000     139.000000      107.000000  2.852210e+05   \n",
       "max     200.000000   200.000000     200.000000      343.000000  4.066056e+06   \n",
       "\n",
       "          month  \n",
       "count  2000.000  \n",
       "mean      5.500  \n",
       "std       2.873  \n",
       "min       1.000  \n",
       "25%       3.000  \n",
       "50%       5.500  \n",
       "75%       8.000  \n",
       "max      10.000  "
      ]
     },
     "execution_count": 48,
     "metadata": {},
     "output_type": "execute_result"
    }
   ],
   "source": [
    "data.describe()"
   ]
  },
  {
   "cell_type": "markdown",
   "metadata": {},
   "source": [
    "Outliers analysis"
   ]
  },
  {
   "cell_type": "code",
   "execution_count": 49,
   "metadata": {},
   "outputs": [
    {
     "data": {
      "image/png": "[encoded data removed]",
      "text/plain": [
       "<Figure size 640x480 with 1 Axes>"
      ]
     },
     "metadata": {},
     "output_type": "display_data"
    },
    {
     "name": "stdout",
     "output_type": "stream",
     "text": [
      "Outliers in streams:\n",
      "                                             track_name  streams\n",
      "0                   Seven (feat. Latto) (Explicit Ver.)  1178606\n",
      "1                                             Từng Quen  1087520\n",
      "2                                              Tò Te Tí  1036739\n",
      "3     Buồn Hay Vui (feat. RPT MCK, Obito, Ronboogz &...   919584\n",
      "4                                 Những Lời Hứa Bỏ Quên   856107\n",
      "...                                                 ...      ...\n",
      "1824  TÌNH ĐẦU QUÁ CHÉN (feat. Quang Hùng MasterD, N...   527780\n",
      "1825                                             Mantra   526029\n",
      "1826  NGÁO NGƠ (feat. HIEUTHUHAI, ERIK, Anh Tú Atus,...   525817\n",
      "1827                                            MỘNG YU   522406\n",
      "1828                          Hẹn Gặp Em Dưới Ánh Trăng   506833\n",
      "\n",
      "[147 rows x 2 columns]\n"
     ]
    }
   ],
   "source": [
    "sns.boxplot(x=data['streams'])\n",
    "plt.title('Boxplot of Streams')\n",
    "plt.show()\n",
    "\n",
    "# Calculate IQR for `streams` \n",
    "Q1 = data['streams'].quantile(0.25)\n",
    "Q3 = data['streams'].quantile(0.75)\n",
    "IQR = Q3 - Q1\n",
    "\n",
    "lower_bound = Q1 - 1.5 * IQR\n",
    "upper_bound = Q3 + 1.5 * IQR\n",
    "\n",
    "outliers_streams = data[(data['streams'] < lower_bound) | (data['streams'] > upper_bound)]\n",
    "if not outliers_streams.empty:\n",
    "    print(\"Outliers in streams:\")\n",
    "    print(outliers_streams[['track_name', 'streams']])\n",
    "else:\n",
    "    print(\"No outliers detected in streams.\")"
   ]
  },
  {
   "cell_type": "markdown",
   "metadata": {},
   "source": [
    "### **Quality check**"
   ]
  },
  {
   "cell_type": "markdown",
   "metadata": {},
   "source": [
    "Consistency checks:\n",
    "- Rank should start at 1 and increment by 1"
   ]
  },
  {
   "cell_type": "code",
   "execution_count": 50,
   "metadata": {},
   "outputs": [
    {
     "name": "stdout",
     "output_type": "stream",
     "text": [
      "Rank sequence is inconsistent.\n"
     ]
    }
   ],
   "source": [
    "expected_ranks = list(range(1, data.shape[0]+1))\n",
    "actual_ranks = data['rank'].tolist()\n",
    "if expected_ranks != actual_ranks:\n",
    "    print(\"Rank sequence is inconsistent.\")\n",
    "else:\n",
    "    print(\"Rank sequence is consistent.\")"
   ]
  },
  {
   "cell_type": "markdown",
   "metadata": {},
   "source": [
    "Now, checking the validity of `range` and relevant information."
   ]
  },
  {
   "cell_type": "code",
   "execution_count": 51,
   "metadata": {},
   "outputs": [],
   "source": [
    "data['rank'] = data['rank'].astype(int)\n",
    "data['peak_rank'] = data['peak_rank'].astype(int)\n",
    "data['previous_rank'] = pd.to_numeric(data['previous_rank'], errors='coerce')\n",
    "data['weeks_on_chart'] = data['weeks_on_chart'].astype(int)\n",
    "data['streams'] = pd.to_numeric(data['streams'], errors='coerce')"
   ]
  },
  {
   "cell_type": "markdown",
   "metadata": {},
   "source": [
    "- Ensuring `range` value should be positive int types starting from 1"
   ]
  },
  {
   "cell_type": "code",
   "execution_count": 52,
   "metadata": {},
   "outputs": [
    {
     "name": "stdout",
     "output_type": "stream",
     "text": [
      "All ranks are valid. Checked range value done!\n"
     ]
    }
   ],
   "source": [
    "invalid_ranks = data[data['rank'] < 1]\n",
    "if not invalid_ranks.empty:\n",
    "    print(\"Invalid ranks found:\")\n",
    "    print(invalid_ranks)\n",
    "else:\n",
    "    print(\"All ranks are valid. Checked range value done!\")\n"
   ]
  },
  {
   "cell_type": "markdown",
   "metadata": {},
   "source": [
    "- Check for invalid ranks. It should be between 1 and the maximum possible rank."
   ]
  },
  {
   "cell_type": "code",
   "execution_count": 53,
   "metadata": {},
   "outputs": [
    {
     "name": "stdout",
     "output_type": "stream",
     "text": [
      "Checked peak range value done! No validity.\n"
     ]
    }
   ],
   "source": [
    "max_rank = data['rank'].max()\n",
    "invalid_peak_ranks = data[(data['peak_rank'] < 1) | (data['peak_rank'] > max_rank)]\n",
    "if not invalid_peak_ranks.empty:\n",
    "    print(\"Invalid peak ranks found:\")\n",
    "    print(invalid_ranks)\n",
    "else:\n",
    "    print(\"Checked peak range value done! No validity.\")"
   ]
  },
  {
   "cell_type": "markdown",
   "metadata": {},
   "source": [
    "- Check for streams. It should be non-negative value"
   ]
  },
  {
   "cell_type": "code",
   "execution_count": 54,
   "metadata": {},
   "outputs": [
    {
     "name": "stdout",
     "output_type": "stream",
     "text": [
      "No negative streams detected.\n"
     ]
    }
   ],
   "source": [
    "negative_streams = data[data['streams'] < 0]\n",
    "if not negative_streams.empty:\n",
    "    print(\"Negative streams found:\")\n",
    "    print(negative_streams)\n",
    "else:\n",
    "    print(\"No negative streams detected.\")"
   ]
  },
  {
   "cell_type": "markdown",
   "metadata": {},
   "source": [
    "- Check for URI format"
   ]
  },
  {
   "cell_type": "code",
   "execution_count": 55,
   "metadata": {},
   "outputs": [
    {
     "name": "stdout",
     "output_type": "stream",
     "text": [
      "All URIs are valid.\n"
     ]
    }
   ],
   "source": [
    "pattern = r'^spotify:track:[A-Za-z0-9]{22}$'\n",
    "data['uri_valid'] = data['uri'].apply(lambda x: bool(re.match(pattern, x)))\n",
    "invalid_uris = data[~data['uri_valid']]\n",
    "if not invalid_uris.empty:\n",
    "    print(\"Invalid URIs found:\")\n",
    "    print(invalid_uris['uri'])\n",
    "else:\n",
    "    print(\"All URIs are valid.\")"
   ]
  }
 ],
 "metadata": {
  "kernelspec": {
   "display_name": "base",
   "language": "python",
   "name": "python3"
  },
  "language_info": {
   "codemirror_mode": {
    "name": "ipython",
    "version": 3
   },
   "file_extension": ".py",
   "mimetype": "text/x-python",
   "name": "python",
   "nbconvert_exporter": "python",
   "pygments_lexer": "ipython3",
   "version": "3.11.7"
  }
 },
 "nbformat": 4,
 "nbformat_minor": 2
}
