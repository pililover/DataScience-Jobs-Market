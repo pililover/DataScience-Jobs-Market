{
 "cells": [
  {
   "cell_type": "markdown",
   "metadata": {},
   "source": [
    "<div style=\"font-family: Arial, Helvetica, sans-serif;\">\n",
    "    <div style=\"display: flex;padding-top: 20px\">\n",
    "        <div><strong>Course:</strong> Introduction to Data Science</div>\n",
    "    </div>\n",
    "    <div style=\"display: flex;padding-top: 20px\">\n",
    "        <div style=\"padding-right: 10px;\"><strong>Class:</strong> KHDL1</div>\n",
    "        <div></div>\n",
    "    </div>\n",
    "    <div style=\"display: flex;padding-top: 20px\">\n",
    "        <div style=\"padding-right: 10px;\"><strong>Group:</strong> 11 - HAHA</div>\n",
    "    </div>\n",
    "    <div>\n",
    "        <div style=\"display: flex;padding-top: 20px\">\n",
    "            <div style=\"padding-right: 10px;\"><strong>Members:</strong></div>\n",
    "            <div></div>\n",
    "        </div>\n",
    "        <table style=\"font-size: 15px; display:flex;padding-top: 20px\">\n",
    "            <tr>\n",
    "                <th>No.</th>\n",
    "                <th>Student ID</th>\n",
    "                <th>Name</th>\n",
    "            </tr>\n",
    "            <tr>\n",
    "                <td>1</td>\n",
    "                <td>22127008</td>\n",
    "                <td style=\"text-align:left;\">Đặng Châu Anh</td>\n",
    "            </tr>\n",
    "            <tr>\n",
    "                <td>2</td>\n",
    "                <td>22127014</td>\n",
    "                <td style=\"text-align:left;\">Nguyễn Kim Anh</td>\n",
    "            </tr>\n",
    "            <tr>\n",
    "                <td>3</td>\n",
    "                <td>22127147</td>\n",
    "                <td style=\"text-align:left;\">Đỗ Minh Huy</td>\n",
    "            </tr>\n",
    "            <tr>\n",
    "                <td>4</td>\n",
    "                <td>22127170</td>\n",
    "                <td style=\"text-align:left;\">Trần Dịu Huyền</td>\n",
    "            </tr>\n",
    "        </table>\n",
    "    </div>\n",
    "    <div style=\"font-size: 25px ;font-weight: 800; text-align: center;padding-top: 20px;\">FINAL PROJECT</div>\n",
    "    <div style=\"font-size: 20px ;font-weight: 800; text-align: center;padding-top: 20px;\">SPOTIFY 2024 REWIND - DATA ANALYSIS</div>\n",
    "</div>"
   ]
  },
  {
   "cell_type": "markdown",
   "metadata": {},
   "source": [
    "# **Data Exploration**\n",
    "## **Import libraries**"
   ]
  },
  {
   "cell_type": "code",
   "execution_count": 6,
   "metadata": {},
   "outputs": [],
   "source": [
    "import pandas as pd\n",
    "import numpy as np\n",
    "from bs4 import BeautifulSoup\n",
    "import matplotlib.pyplot as plt\n",
    "import seaborn as sns\n",
    "import os\n",
    "import requests\n",
    "import time"
   ]
  },
  {
   "cell_type": "markdown",
   "metadata": {},
   "source": [
    "## **Read data from csv data files**\n",
    "\n",
    "Read data from `spotify_charts_cleaned.csv` files in folder `cleaned_data` into a DataFrame."
   ]
  },
  {
   "cell_type": "code",
   "execution_count": 2,
   "metadata": {},
   "outputs": [
    {
     "data": {
      "text/html": [
       "<div>\n",
       "<style scoped>\n",
       "    .dataframe tbody tr th:only-of-type {\n",
       "        vertical-align: middle;\n",
       "    }\n",
       "\n",
       "    .dataframe tbody tr th {\n",
       "        vertical-align: top;\n",
       "    }\n",
       "\n",
       "    .dataframe thead th {\n",
       "        text-align: right;\n",
       "    }\n",
       "</style>\n",
       "<table border=\"1\" class=\"dataframe\">\n",
       "  <thead>\n",
       "    <tr style=\"text-align: right;\">\n",
       "      <th></th>\n",
       "      <th>rank</th>\n",
       "      <th>uri</th>\n",
       "      <th>artist_names</th>\n",
       "      <th>track_name</th>\n",
       "      <th>source</th>\n",
       "      <th>peak_rank</th>\n",
       "      <th>previous_rank</th>\n",
       "      <th>weeks_on_chart</th>\n",
       "      <th>streams</th>\n",
       "      <th>month</th>\n",
       "    </tr>\n",
       "  </thead>\n",
       "  <tbody>\n",
       "    <tr>\n",
       "      <th>0</th>\n",
       "      <td>1</td>\n",
       "      <td>spotify:track:2HRgqmZQC0MC7GeNuDIXHN</td>\n",
       "      <td>Jung Kook, Latto</td>\n",
       "      <td>Seven (feat. Latto) (Explicit Ver.)</td>\n",
       "      <td>BIGHIT MUSIC</td>\n",
       "      <td>1</td>\n",
       "      <td>1</td>\n",
       "      <td>29</td>\n",
       "      <td>1178606</td>\n",
       "      <td>1</td>\n",
       "    </tr>\n",
       "    <tr>\n",
       "      <th>1</th>\n",
       "      <td>2</td>\n",
       "      <td>spotify:track:4qYfRfSxsmhJ1WMaywtLyI</td>\n",
       "      <td>Wren Evans, itsnk</td>\n",
       "      <td>Từng Quen</td>\n",
       "      <td>Universal Music Indochina</td>\n",
       "      <td>1</td>\n",
       "      <td>2</td>\n",
       "      <td>14</td>\n",
       "      <td>1087520</td>\n",
       "      <td>1</td>\n",
       "    </tr>\n",
       "    <tr>\n",
       "      <th>2</th>\n",
       "      <td>3</td>\n",
       "      <td>spotify:track:0X28PqBpbQhWdi4usYw0w5</td>\n",
       "      <td>Wren Evans, itsnk</td>\n",
       "      <td>Tò Te Tí</td>\n",
       "      <td>Universal Music Indochina</td>\n",
       "      <td>3</td>\n",
       "      <td>4</td>\n",
       "      <td>7</td>\n",
       "      <td>1036739</td>\n",
       "      <td>1</td>\n",
       "    </tr>\n",
       "    <tr>\n",
       "      <th>3</th>\n",
       "      <td>4</td>\n",
       "      <td>spotify:track:1khMN4Adfi3LrZvxOq4YM5</td>\n",
       "      <td>VSOUL, RPT MCK, Obito, Ronboogz, Boyzed</td>\n",
       "      <td>Buồn Hay Vui (feat. RPT MCK, Obito, Ronboogz &amp;...</td>\n",
       "      <td>12 trái lê</td>\n",
       "      <td>3</td>\n",
       "      <td>5</td>\n",
       "      <td>6</td>\n",
       "      <td>919584</td>\n",
       "      <td>1</td>\n",
       "    </tr>\n",
       "    <tr>\n",
       "      <th>4</th>\n",
       "      <td>5</td>\n",
       "      <td>spotify:track:1bG6Q8sR8jda7ryI365y8o</td>\n",
       "      <td>Vũ., Dear Jane</td>\n",
       "      <td>Những Lời Hứa Bỏ Quên</td>\n",
       "      <td>WM Vietnam</td>\n",
       "      <td>1</td>\n",
       "      <td>3</td>\n",
       "      <td>7</td>\n",
       "      <td>856107</td>\n",
       "      <td>1</td>\n",
       "    </tr>\n",
       "    <tr>\n",
       "      <th>...</th>\n",
       "      <td>...</td>\n",
       "      <td>...</td>\n",
       "      <td>...</td>\n",
       "      <td>...</td>\n",
       "      <td>...</td>\n",
       "      <td>...</td>\n",
       "      <td>...</td>\n",
       "      <td>...</td>\n",
       "      <td>...</td>\n",
       "      <td>...</td>\n",
       "    </tr>\n",
       "    <tr>\n",
       "      <th>1995</th>\n",
       "      <td>196</td>\n",
       "      <td>spotify:track:7sZgr8RsXkDwkmiQok691a</td>\n",
       "      <td>Thịnh Suy</td>\n",
       "      <td>Mai Mình Xa</td>\n",
       "      <td>InQ International</td>\n",
       "      <td>85</td>\n",
       "      <td>187</td>\n",
       "      <td>28</td>\n",
       "      <td>145969</td>\n",
       "      <td>10</td>\n",
       "    </tr>\n",
       "    <tr>\n",
       "      <th>1996</th>\n",
       "      <td>197</td>\n",
       "      <td>spotify:track:2M2nM9t0YQoXMTnFH8AXBu</td>\n",
       "      <td>Huỳnh Tú, Andiez</td>\n",
       "      <td>Đường Một Chiều</td>\n",
       "      <td>Huỳnh Tú</td>\n",
       "      <td>114</td>\n",
       "      <td>191</td>\n",
       "      <td>67</td>\n",
       "      <td>145160</td>\n",
       "      <td>10</td>\n",
       "    </tr>\n",
       "    <tr>\n",
       "      <th>1997</th>\n",
       "      <td>198</td>\n",
       "      <td>spotify:track:45Mswno1F7FoZkcmQkp7fi</td>\n",
       "      <td>Wren Evans</td>\n",
       "      <td>Thích Em Hơi Nhiều</td>\n",
       "      <td>Universal Music Indochina</td>\n",
       "      <td>1</td>\n",
       "      <td>-1</td>\n",
       "      <td>168</td>\n",
       "      <td>145003</td>\n",
       "      <td>10</td>\n",
       "    </tr>\n",
       "    <tr>\n",
       "      <th>1998</th>\n",
       "      <td>199</td>\n",
       "      <td>spotify:track:23ep27rDA9gklIzuJ6qzRD</td>\n",
       "      <td>Dương Domic</td>\n",
       "      <td>Yêu Em 2 Ngày</td>\n",
       "      <td>DAO Entertainment</td>\n",
       "      <td>174</td>\n",
       "      <td>-1</td>\n",
       "      <td>5</td>\n",
       "      <td>143566</td>\n",
       "      <td>10</td>\n",
       "    </tr>\n",
       "    <tr>\n",
       "      <th>1999</th>\n",
       "      <td>200</td>\n",
       "      <td>spotify:track:2jcdws2044suWnDo8DTcKC</td>\n",
       "      <td>RAP VIỆT, CoolKid</td>\n",
       "      <td>NẮNG (feat. Coolkid)</td>\n",
       "      <td>DAT VIET VAC</td>\n",
       "      <td>200</td>\n",
       "      <td>-1</td>\n",
       "      <td>1</td>\n",
       "      <td>143534</td>\n",
       "      <td>10</td>\n",
       "    </tr>\n",
       "  </tbody>\n",
       "</table>\n",
       "<p>2000 rows × 10 columns</p>\n",
       "</div>"
      ],
      "text/plain": [
       "      rank                                   uri  \\\n",
       "0        1  spotify:track:2HRgqmZQC0MC7GeNuDIXHN   \n",
       "1        2  spotify:track:4qYfRfSxsmhJ1WMaywtLyI   \n",
       "2        3  spotify:track:0X28PqBpbQhWdi4usYw0w5   \n",
       "3        4  spotify:track:1khMN4Adfi3LrZvxOq4YM5   \n",
       "4        5  spotify:track:1bG6Q8sR8jda7ryI365y8o   \n",
       "...    ...                                   ...   \n",
       "1995   196  spotify:track:7sZgr8RsXkDwkmiQok691a   \n",
       "1996   197  spotify:track:2M2nM9t0YQoXMTnFH8AXBu   \n",
       "1997   198  spotify:track:45Mswno1F7FoZkcmQkp7fi   \n",
       "1998   199  spotify:track:23ep27rDA9gklIzuJ6qzRD   \n",
       "1999   200  spotify:track:2jcdws2044suWnDo8DTcKC   \n",
       "\n",
       "                                 artist_names  \\\n",
       "0                            Jung Kook, Latto   \n",
       "1                           Wren Evans, itsnk   \n",
       "2                           Wren Evans, itsnk   \n",
       "3     VSOUL, RPT MCK, Obito, Ronboogz, Boyzed   \n",
       "4                              Vũ., Dear Jane   \n",
       "...                                       ...   \n",
       "1995                                Thịnh Suy   \n",
       "1996                         Huỳnh Tú, Andiez   \n",
       "1997                               Wren Evans   \n",
       "1998                              Dương Domic   \n",
       "1999                        RAP VIỆT, CoolKid   \n",
       "\n",
       "                                             track_name  \\\n",
       "0                   Seven (feat. Latto) (Explicit Ver.)   \n",
       "1                                             Từng Quen   \n",
       "2                                              Tò Te Tí   \n",
       "3     Buồn Hay Vui (feat. RPT MCK, Obito, Ronboogz &...   \n",
       "4                                 Những Lời Hứa Bỏ Quên   \n",
       "...                                                 ...   \n",
       "1995                                        Mai Mình Xa   \n",
       "1996                                    Đường Một Chiều   \n",
       "1997                                 Thích Em Hơi Nhiều   \n",
       "1998                                      Yêu Em 2 Ngày   \n",
       "1999                               NẮNG (feat. Coolkid)   \n",
       "\n",
       "                         source  peak_rank  previous_rank  weeks_on_chart  \\\n",
       "0                  BIGHIT MUSIC          1              1              29   \n",
       "1     Universal Music Indochina          1              2              14   \n",
       "2     Universal Music Indochina          3              4               7   \n",
       "3                    12 trái lê          3              5               6   \n",
       "4                    WM Vietnam          1              3               7   \n",
       "...                         ...        ...            ...             ...   \n",
       "1995          InQ International         85            187              28   \n",
       "1996                   Huỳnh Tú        114            191              67   \n",
       "1997  Universal Music Indochina          1             -1             168   \n",
       "1998          DAO Entertainment        174             -1               5   \n",
       "1999               DAT VIET VAC        200             -1               1   \n",
       "\n",
       "      streams  month  \n",
       "0     1178606      1  \n",
       "1     1087520      1  \n",
       "2     1036739      1  \n",
       "3      919584      1  \n",
       "4      856107      1  \n",
       "...       ...    ...  \n",
       "1995   145969     10  \n",
       "1996   145160     10  \n",
       "1997   145003     10  \n",
       "1998   143566     10  \n",
       "1999   143534     10  \n",
       "\n",
       "[2000 rows x 10 columns]"
      ]
     },
     "execution_count": 2,
     "metadata": {},
     "output_type": "execute_result"
    }
   ],
   "source": [
    "df = pd.read_csv('cleaned_data/spotify_charts_cleaned.csv')\n",
    "df"
   ]
  },
  {
   "cell_type": "markdown",
   "metadata": {},
   "source": [
    "## **Data Preprocessing:**\n",
    "\n",
    "We can see that the data contains `uri` column which is not useful for our analysis. But, we can using these values to get more information about the songs. We can use the `uri` values to get the audio release date of the songs from the Spotify website.\n",
    "- First, we will extract the id trong `uri` column."
   ]
  },
  {
   "cell_type": "code",
   "execution_count": 3,
   "metadata": {},
   "outputs": [],
   "source": [
    "def extract_id(uri):\n",
    "    return uri.split(':')[-1]\n",
    "\n",
    "track_id = []\n",
    "for uri in df['uri']:\n",
    "    track_id.append(extract_id(uri))"
   ]
  },
  {
   "cell_type": "markdown",
   "metadata": {},
   "source": [
    "- Second, we will use the `track_id` to get the audio features of the songs by parse HTML from the Spotify website and add the `release_date` and `duration` features to the DataFrame."
   ]
  },
  {
   "cell_type": "code",
   "execution_count": null,
   "metadata": {},
   "outputs": [],
   "source": [
    "def get_track_info(track_id):\n",
    "    url = f\"https://open.spotify.com/track/{track_id}\"\n",
    "    response = requests.get(url)\n",
    "    if response.status_code == 200:\n",
    "        soup = BeautifulSoup(response.text, 'html.parser')\n",
    "        release_date_tag = soup.find('meta', {'name': 'music:release_date'})\n",
    "        duration_tag = soup.find('meta', {'name': 'music:duration'})\n",
    "        \n",
    "        release_date = release_date_tag['content'] if release_date_tag else 'Release date not found'\n",
    "        duration = duration_tag['content'] if duration_tag else 'Duration not found'\n",
    "        \n",
    "        return release_date, duration\n",
    "    else:\n",
    "        return 'Request failed', 'Request failed'\n",
    "    \n",
    "# Get release dates and music durations\n",
    "release_dates = []\n",
    "durations = []\n",
    "\n",
    "for id in track_id:\n",
    "    release_date, duration = get_track_info(id)\n",
    "    time.sleep(3)\n",
    "    release_dates.append(release_date)\n",
    "    durations.append(duration)\n",
    "    \n",
    "# Add the release dates and music durations to the DataFrame\n",
    "df['release_date'] = release_dates\n",
    "df['duration'] = durations"
   ]
  },
  {
   "cell_type": "markdown",
   "metadata": {},
   "source": [
    "- Finally, we will drop the `uri` column from the DataFrame."
   ]
  },
  {
   "cell_type": "code",
   "execution_count": null,
   "metadata": {},
   "outputs": [],
   "source": [
    "df.drop(columns=['uri'], inplace=True)"
   ]
  },
  {
   "cell_type": "markdown",
   "metadata": {},
   "source": [
    "This is the new df:"
   ]
  },
  {
   "cell_type": "code",
   "execution_count": null,
   "metadata": {},
   "outputs": [
    {
     "data": {
      "text/html": [
       "<div>\n",
       "<style scoped>\n",
       "    .dataframe tbody tr th:only-of-type {\n",
       "        vertical-align: middle;\n",
       "    }\n",
       "\n",
       "    .dataframe tbody tr th {\n",
       "        vertical-align: top;\n",
       "    }\n",
       "\n",
       "    .dataframe thead th {\n",
       "        text-align: right;\n",
       "    }\n",
       "</style>\n",
       "<table border=\"1\" class=\"dataframe\">\n",
       "  <thead>\n",
       "    <tr style=\"text-align: right;\">\n",
       "      <th></th>\n",
       "      <th>rank</th>\n",
       "      <th>artist_names</th>\n",
       "      <th>track_name</th>\n",
       "      <th>source</th>\n",
       "      <th>peak_rank</th>\n",
       "      <th>previous_rank</th>\n",
       "      <th>weeks_on_chart</th>\n",
       "      <th>streams</th>\n",
       "      <th>month</th>\n",
       "      <th>release_date</th>\n",
       "    </tr>\n",
       "  </thead>\n",
       "  <tbody>\n",
       "    <tr>\n",
       "      <th>0</th>\n",
       "      <td>1</td>\n",
       "      <td>Jung Kook, Latto</td>\n",
       "      <td>Seven (feat. Latto) (Explicit Ver.)</td>\n",
       "      <td>BIGHIT MUSIC</td>\n",
       "      <td>1</td>\n",
       "      <td>1</td>\n",
       "      <td>29</td>\n",
       "      <td>1178606</td>\n",
       "      <td>1</td>\n",
       "      <td>2023-11-03</td>\n",
       "    </tr>\n",
       "    <tr>\n",
       "      <th>1</th>\n",
       "      <td>2</td>\n",
       "      <td>Wren Evans, itsnk</td>\n",
       "      <td>Từng Quen</td>\n",
       "      <td>Universal Music Indochina</td>\n",
       "      <td>1</td>\n",
       "      <td>2</td>\n",
       "      <td>14</td>\n",
       "      <td>1087520</td>\n",
       "      <td>1</td>\n",
       "      <td>2023-12-17</td>\n",
       "    </tr>\n",
       "    <tr>\n",
       "      <th>2</th>\n",
       "      <td>3</td>\n",
       "      <td>Wren Evans, itsnk</td>\n",
       "      <td>Tò Te Tí</td>\n",
       "      <td>Universal Music Indochina</td>\n",
       "      <td>3</td>\n",
       "      <td>4</td>\n",
       "      <td>7</td>\n",
       "      <td>1036739</td>\n",
       "      <td>1</td>\n",
       "      <td>2023-12-17</td>\n",
       "    </tr>\n",
       "    <tr>\n",
       "      <th>3</th>\n",
       "      <td>4</td>\n",
       "      <td>VSOUL, RPT MCK, Obito, Ronboogz, Boyzed</td>\n",
       "      <td>Buồn Hay Vui (feat. RPT MCK, Obito, Ronboogz &amp;...</td>\n",
       "      <td>12 trái lê</td>\n",
       "      <td>3</td>\n",
       "      <td>5</td>\n",
       "      <td>6</td>\n",
       "      <td>919584</td>\n",
       "      <td>1</td>\n",
       "      <td>2023-12-25</td>\n",
       "    </tr>\n",
       "    <tr>\n",
       "      <th>4</th>\n",
       "      <td>5</td>\n",
       "      <td>Vũ., Dear Jane</td>\n",
       "      <td>Những Lời Hứa Bỏ Quên</td>\n",
       "      <td>WM Vietnam</td>\n",
       "      <td>1</td>\n",
       "      <td>3</td>\n",
       "      <td>7</td>\n",
       "      <td>856107</td>\n",
       "      <td>1</td>\n",
       "      <td>2023-12-14</td>\n",
       "    </tr>\n",
       "    <tr>\n",
       "      <th>...</th>\n",
       "      <td>...</td>\n",
       "      <td>...</td>\n",
       "      <td>...</td>\n",
       "      <td>...</td>\n",
       "      <td>...</td>\n",
       "      <td>...</td>\n",
       "      <td>...</td>\n",
       "      <td>...</td>\n",
       "      <td>...</td>\n",
       "      <td>...</td>\n",
       "    </tr>\n",
       "    <tr>\n",
       "      <th>1995</th>\n",
       "      <td>196</td>\n",
       "      <td>Thịnh Suy</td>\n",
       "      <td>Mai Mình Xa</td>\n",
       "      <td>InQ International</td>\n",
       "      <td>85</td>\n",
       "      <td>187</td>\n",
       "      <td>28</td>\n",
       "      <td>145969</td>\n",
       "      <td>10</td>\n",
       "      <td>2019-12-20</td>\n",
       "    </tr>\n",
       "    <tr>\n",
       "      <th>1996</th>\n",
       "      <td>197</td>\n",
       "      <td>Huỳnh Tú, Andiez</td>\n",
       "      <td>Đường Một Chiều</td>\n",
       "      <td>Huỳnh Tú</td>\n",
       "      <td>114</td>\n",
       "      <td>191</td>\n",
       "      <td>67</td>\n",
       "      <td>145160</td>\n",
       "      <td>10</td>\n",
       "      <td>2016-10-14</td>\n",
       "    </tr>\n",
       "    <tr>\n",
       "      <th>1997</th>\n",
       "      <td>198</td>\n",
       "      <td>Wren Evans</td>\n",
       "      <td>Thích Em Hơi Nhiều</td>\n",
       "      <td>Universal Music Indochina</td>\n",
       "      <td>1</td>\n",
       "      <td>-1</td>\n",
       "      <td>168</td>\n",
       "      <td>145003</td>\n",
       "      <td>10</td>\n",
       "      <td>2021-06-18</td>\n",
       "    </tr>\n",
       "    <tr>\n",
       "      <th>1998</th>\n",
       "      <td>199</td>\n",
       "      <td>Dương Domic</td>\n",
       "      <td>Yêu Em 2 Ngày</td>\n",
       "      <td>DAO Entertainment</td>\n",
       "      <td>174</td>\n",
       "      <td>-1</td>\n",
       "      <td>5</td>\n",
       "      <td>143566</td>\n",
       "      <td>10</td>\n",
       "      <td>2024-03-08</td>\n",
       "    </tr>\n",
       "    <tr>\n",
       "      <th>1999</th>\n",
       "      <td>200</td>\n",
       "      <td>RAP VIỆT, CoolKid</td>\n",
       "      <td>NẮNG (feat. Coolkid)</td>\n",
       "      <td>DAT VIET VAC</td>\n",
       "      <td>200</td>\n",
       "      <td>-1</td>\n",
       "      <td>1</td>\n",
       "      <td>143534</td>\n",
       "      <td>10</td>\n",
       "      <td>2024-10-24</td>\n",
       "    </tr>\n",
       "  </tbody>\n",
       "</table>\n",
       "<p>2000 rows × 10 columns</p>\n",
       "</div>"
      ],
      "text/plain": [
       "      rank                             artist_names  \\\n",
       "0        1                         Jung Kook, Latto   \n",
       "1        2                        Wren Evans, itsnk   \n",
       "2        3                        Wren Evans, itsnk   \n",
       "3        4  VSOUL, RPT MCK, Obito, Ronboogz, Boyzed   \n",
       "4        5                           Vũ., Dear Jane   \n",
       "...    ...                                      ...   \n",
       "1995   196                                Thịnh Suy   \n",
       "1996   197                         Huỳnh Tú, Andiez   \n",
       "1997   198                               Wren Evans   \n",
       "1998   199                              Dương Domic   \n",
       "1999   200                        RAP VIỆT, CoolKid   \n",
       "\n",
       "                                             track_name  \\\n",
       "0                   Seven (feat. Latto) (Explicit Ver.)   \n",
       "1                                             Từng Quen   \n",
       "2                                              Tò Te Tí   \n",
       "3     Buồn Hay Vui (feat. RPT MCK, Obito, Ronboogz &...   \n",
       "4                                 Những Lời Hứa Bỏ Quên   \n",
       "...                                                 ...   \n",
       "1995                                        Mai Mình Xa   \n",
       "1996                                    Đường Một Chiều   \n",
       "1997                                 Thích Em Hơi Nhiều   \n",
       "1998                                      Yêu Em 2 Ngày   \n",
       "1999                               NẮNG (feat. Coolkid)   \n",
       "\n",
       "                         source  peak_rank  previous_rank  weeks_on_chart  \\\n",
       "0                  BIGHIT MUSIC          1              1              29   \n",
       "1     Universal Music Indochina          1              2              14   \n",
       "2     Universal Music Indochina          3              4               7   \n",
       "3                    12 trái lê          3              5               6   \n",
       "4                    WM Vietnam          1              3               7   \n",
       "...                         ...        ...            ...             ...   \n",
       "1995          InQ International         85            187              28   \n",
       "1996                   Huỳnh Tú        114            191              67   \n",
       "1997  Universal Music Indochina          1             -1             168   \n",
       "1998          DAO Entertainment        174             -1               5   \n",
       "1999               DAT VIET VAC        200             -1               1   \n",
       "\n",
       "      streams  month release_date  \n",
       "0     1178606      1   2023-11-03  \n",
       "1     1087520      1   2023-12-17  \n",
       "2     1036739      1   2023-12-17  \n",
       "3      919584      1   2023-12-25  \n",
       "4      856107      1   2023-12-14  \n",
       "...       ...    ...          ...  \n",
       "1995   145969     10   2019-12-20  \n",
       "1996   145160     10   2016-10-14  \n",
       "1997   145003     10   2021-06-18  \n",
       "1998   143566     10   2024-03-08  \n",
       "1999   143534     10   2024-10-24  \n",
       "\n",
       "[2000 rows x 10 columns]"
      ]
     },
     "execution_count": 14,
     "metadata": {},
     "output_type": "execute_result"
    }
   ],
   "source": [
    "df"
   ]
  },
  {
   "cell_type": "markdown",
   "metadata": {},
   "source": [
    "We have to check for missing values in the dataset again to ensure that there are no missing `release_date` values and `duration` values."
   ]
  },
  {
   "cell_type": "code",
   "execution_count": null,
   "metadata": {},
   "outputs": [
    {
     "data": {
      "text/plain": [
       "rank              0\n",
       "artist_names      0\n",
       "track_name        0\n",
       "source            0\n",
       "peak_rank         0\n",
       "previous_rank     0\n",
       "weeks_on_chart    0\n",
       "streams           0\n",
       "month             0\n",
       "release_date      0\n",
       "dtype: int64"
      ]
     },
     "execution_count": 15,
     "metadata": {},
     "output_type": "execute_result"
    }
   ],
   "source": [
    "df.isna().sum()"
   ]
  },
  {
   "cell_type": "markdown",
   "metadata": {},
   "source": [
    "It seems that there are no missing values in the `release_date` column but we have to check does the `release_date` column contain any tag `Release date not found` or `Request failed` not. If it does, we still consider it as missing values."
   ]
  },
  {
   "cell_type": "code",
   "execution_count": null,
   "metadata": {},
   "outputs": [
    {
     "data": {
      "text/html": [
       "<div>\n",
       "<style scoped>\n",
       "    .dataframe tbody tr th:only-of-type {\n",
       "        vertical-align: middle;\n",
       "    }\n",
       "\n",
       "    .dataframe tbody tr th {\n",
       "        vertical-align: top;\n",
       "    }\n",
       "\n",
       "    .dataframe thead th {\n",
       "        text-align: right;\n",
       "    }\n",
       "</style>\n",
       "<table border=\"1\" class=\"dataframe\">\n",
       "  <thead>\n",
       "    <tr style=\"text-align: right;\">\n",
       "      <th></th>\n",
       "      <th>rank</th>\n",
       "      <th>artist_names</th>\n",
       "      <th>track_name</th>\n",
       "      <th>source</th>\n",
       "      <th>peak_rank</th>\n",
       "      <th>previous_rank</th>\n",
       "      <th>weeks_on_chart</th>\n",
       "      <th>streams</th>\n",
       "      <th>month</th>\n",
       "      <th>release_date</th>\n",
       "    </tr>\n",
       "  </thead>\n",
       "  <tbody>\n",
       "  </tbody>\n",
       "</table>\n",
       "</div>"
      ],
      "text/plain": [
       "Empty DataFrame\n",
       "Columns: [rank, artist_names, track_name, source, peak_rank, previous_rank, weeks_on_chart, streams, month, release_date]\n",
       "Index: []"
      ]
     },
     "execution_count": 19,
     "metadata": {},
     "output_type": "execute_result"
    }
   ],
   "source": [
    "\n",
    "missing_values = df[\n",
    "    (df['release_date'] == 'Release date not found') | (df['release_date'] == 'Request failed') |\n",
    "    (df['duration'] == 'Duration not found') | (df['duration'] == 'Request failed')\n",
    "]\n",
    "missing_values"
   ]
  },
  {
   "cell_type": "markdown",
   "metadata": {},
   "source": [
    "Thus, there are no missing values in the `release_date` and `duration` column. We can move on duplicated values checking."
   ]
  },
  {
   "cell_type": "code",
   "execution_count": null,
   "metadata": {},
   "outputs": [
    {
     "data": {
      "text/plain": [
       "0"
      ]
     },
     "execution_count": 20,
     "metadata": {},
     "output_type": "execute_result"
    }
   ],
   "source": [
    "df.duplicated().sum()"
   ]
  },
  {
   "cell_type": "markdown",
   "metadata": {},
   "source": [
    "Thus, there are no duplicated values, so we can move to the next step, datatypes checking. Taking a look at the datatypes of the columns for ensuring that all the columns have correct datatypes for further analysis."
   ]
  },
  {
   "cell_type": "code",
   "execution_count": null,
   "metadata": {},
   "outputs": [
    {
     "name": "stdout",
     "output_type": "stream",
     "text": [
      "<class 'pandas.core.frame.DataFrame'>\n",
      "RangeIndex: 2000 entries, 0 to 1999\n",
      "Data columns (total 10 columns):\n",
      " #   Column          Non-Null Count  Dtype \n",
      "---  ------          --------------  ----- \n",
      " 0   rank            2000 non-null   int64 \n",
      " 1   artist_names    2000 non-null   object\n",
      " 2   track_name      2000 non-null   object\n",
      " 3   source          2000 non-null   object\n",
      " 4   peak_rank       2000 non-null   int64 \n",
      " 5   previous_rank   2000 non-null   int64 \n",
      " 6   weeks_on_chart  2000 non-null   int64 \n",
      " 7   streams         2000 non-null   int64 \n",
      " 8   month           2000 non-null   int64 \n",
      " 9   release_date    2000 non-null   object\n",
      "dtypes: int64(6), object(4)\n",
      "memory usage: 156.4+ KB\n"
     ]
    }
   ],
   "source": [
    "df.info()"
   ]
  },
  {
   "cell_type": "markdown",
   "metadata": {},
   "source": [
    "As we can see, the `release_date` column is in object datatype. We need to convert it to datetime datatype. We also need to convert the `month` column to category datatype."
   ]
  },
  {
   "cell_type": "code",
   "execution_count": null,
   "metadata": {},
   "outputs": [
    {
     "name": "stdout",
     "output_type": "stream",
     "text": [
      "<class 'pandas.core.frame.DataFrame'>\n",
      "RangeIndex: 2000 entries, 0 to 1999\n",
      "Data columns (total 10 columns):\n",
      " #   Column          Non-Null Count  Dtype         \n",
      "---  ------          --------------  -----         \n",
      " 0   rank            2000 non-null   int64         \n",
      " 1   artist_names    2000 non-null   object        \n",
      " 2   track_name      2000 non-null   object        \n",
      " 3   source          2000 non-null   object        \n",
      " 4   peak_rank       2000 non-null   int64         \n",
      " 5   previous_rank   2000 non-null   int64         \n",
      " 6   weeks_on_chart  2000 non-null   int64         \n",
      " 7   streams         2000 non-null   int64         \n",
      " 8   month           2000 non-null   object        \n",
      " 9   release_date    2000 non-null   datetime64[ns]\n",
      "dtypes: datetime64[ns](1), int64(5), object(4)\n",
      "memory usage: 156.4+ KB\n"
     ]
    }
   ],
   "source": [
    "df['release_date'] = pd.to_datetime(df['release_date'], format='%Y-%m-%d')\n",
    "df['month'] = df['month'].astype('object')\n",
    "df.info()"
   ]
  },
  {
   "cell_type": "markdown",
   "metadata": {},
   "source": [
    "Now, it seems that the data is ready for further analysis."
   ]
  },
  {
   "cell_type": "markdown",
   "metadata": {},
   "source": [
    "## **Data Analysis:**\n",
    "### **Relationship between features:**\n",
    "We will extract the numeric feature and use the `corr()` method to calculate the correlation between these."
   ]
  },
  {
   "cell_type": "code",
   "execution_count": null,
   "metadata": {},
   "outputs": [
    {
     "data": {
      "text/plain": [
       "['rank', 'peak_rank', 'previous_rank', 'weeks_on_chart', 'streams']"
      ]
     },
     "execution_count": 29,
     "metadata": {},
     "output_type": "execute_result"
    }
   ],
   "source": [
    "# Extract numerical features\n",
    "numeric_cols = df.select_dtypes(include=[np.number]).columns.tolist()\n",
    "numeric_cols"
   ]
  },
  {
   "cell_type": "markdown",
   "metadata": {},
   "source": [
    "Though, we extract the numeric features are: `rank`, `peak_rank`, `previous_rank`, `weeks_on_chart`, `streams`. But we have to understand that the `rank` , `peak_rank` and `previous_rank` are not numeric features, they are ordinal features.\n",
    "Now, we will calculate the correlation between them."
   ]
  },
  {
   "cell_type": "code",
   "execution_count": null,
   "metadata": {},
   "outputs": [
    {
     "data": {
      "image/png": "[encoded data removed]",
      "text/plain": [
       "<Figure size 1200x1000 with 2 Axes>"
      ]
     },
     "metadata": {},
     "output_type": "display_data"
    }
   ],
   "source": [
    "corr_matrix = df[numeric_cols].corr()\n",
    "plt.figure(figsize=(12, 10))\n",
    "sns.heatmap(corr_matrix, annot=True, cmap='Greens')\n",
    "plt.title('Correlation Matrix')\n",
    "plt.show()"
   ]
  },
  {
   "cell_type": "markdown",
   "metadata": {},
   "source": [
    "Comment on the relationship between the features:\n",
    "- The `previous_rank` and `rank` columns have a strong positive correlation with a value of 0.73. This means that the higher the previous rank, the higher the current rank.\n",
    "- The `rank` and `stream` has a negative correlation with a value of -0.59. It is quite of interesting that is the higher rank mean larger number represent for the rank. Thus, the smaller number showed in `rank` column, the higher the stream number.\n",
    "- The `previous_rank` and `stream` columns have a negative correlation with a value of -0.48. This is similar to the relationship between `rank` and `stream`, the higher the previous rank (smaller the number represented for `previous_rank`), the higher the stream number.\n",
    "- The `rank` and `peak_rank` columns have a moderate positive correlation with a value of 0.47. This means that the higher the rank, the higher the peak rank."
   ]
  },
  {
   "cell_type": "markdown",
   "metadata": {},
   "source": [
    "#### **Correlation between `previous_rank` and `rank`**\n",
    "\n",
    "Scatter plot of the relationship between 'rank' and 'previous_rank'"
   ]
  },
  {
   "cell_type": "code",
   "execution_count": null,
   "metadata": {},
   "outputs": [
    {
     "data": {
      "image/png": "[encoded data removed]",
      "text/plain": [
       "<Figure size 640x480 with 1 Axes>"
      ]
     },
     "metadata": {},
     "output_type": "display_data"
    }
   ],
   "source": [
    "sns.scatterplot(x='rank', y='previous_rank', data=df, color='lightgreen')\n",
    "plt.title('Rank vs Previous Rank')\n",
    "plt.show()"
   ]
  },
  {
   "cell_type": "markdown",
   "metadata": {},
   "source": [
    "#### **Correlation between `rank` and `streams`**\n",
    "\n",
    "Scatter plot of the relationship between 'rank' and 'streams'"
   ]
  },
  {
   "cell_type": "code",
   "execution_count": null,
   "metadata": {},
   "outputs": [],
   "source": [
    "sns.scatterplot(x='rank', y='streams', data=df, color='aquamarine')\n",
    "plt.title('Rank vs Streams')\n",
    "plt.show()"
   ]
  },
  {
   "cell_type": "markdown",
   "metadata": {},
   "source": [
    "#### **Correlation between `previous_rank` and `streams`**\n",
    "\n",
    "Scatter plot of the relationship between 'previous_rank' and 'streams'"
   ]
  },
  {
   "cell_type": "code",
   "execution_count": null,
   "metadata": {},
   "outputs": [],
   "source": [
    "sns.scatterplot(x='previous_rank', y='stream', data=df, color='pink')\n",
    "plt.title('Previous Rank vs Streams')\n",
    "plt.show()"
   ]
  },
  {
   "cell_type": "markdown",
   "metadata": {},
   "source": [
    "#### **Correlation between `rank` and `peak_rank`**\n",
    "\n",
    "Scatter plot of the relationship between 'rank' and 'peak_rank'"
   ]
  },
  {
   "cell_type": "code",
   "execution_count": null,
   "metadata": {},
   "outputs": [],
   "source": [
    "sns.scatterplot(x='rank', y='peak_rank', data=df, color='cyan')\n",
    "plt.title('Rank vs Peak Rank')\n",
    "plt.show()"
   ]
  },
  {
   "cell_type": "markdown",
   "metadata": {},
   "source": [
    "### **Top 10 songs with the highest streams total:**"
   ]
  },
  {
   "cell_type": "code",
   "execution_count": null,
   "metadata": {},
   "outputs": [],
   "source": []
  },
  {
   "cell_type": "markdown",
   "metadata": {},
   "source": [
    "### **Number of songs released in each month:**"
   ]
  },
  {
   "cell_type": "code",
   "execution_count": null,
   "metadata": {},
   "outputs": [],
   "source": [
    "# Bar chart (axis x: month, axis y: number of tracks)"
   ]
  },
  {
   "cell_type": "markdown",
   "metadata": {},
   "source": [
    "### **Duration trend of this year by ranking**\n",
    "- Top 10 songs in ranking with their duration.\n",
    "- Trend of average duration of songs based on ranking."
   ]
  },
  {
   "cell_type": "code",
   "execution_count": null,
   "metadata": {},
   "outputs": [],
   "source": []
  },
  {
   "cell_type": "markdown",
   "metadata": {},
   "source": [
    "## **Questions**\n",
    "**Question 1:** What strategy should the artist use to launch their product on Spotify in 2024 to maximize the number of streams?\n",
    "- Purpose: Find out the top months that the artist release new song and using these information to provide insights about what strategy the artist should use to launch their product on Spotify in 2024 to maximize the number of streams.\n",
    "- Steps to answer:\n",
    "    + Calculate the total number of songs released each month in 2024.\n",
    "    + Create a bar chart showing the number of songs released each month in 2024.\n",
    "    + Identify the months with a significantly higher number of song releases in 2024.\n",
    "    + Provide insights and propose a strategy for product releases."
   ]
  },
  {
   "cell_type": "code",
   "execution_count": null,
   "metadata": {},
   "outputs": [],
   "source": []
  },
  {
   "cell_type": "markdown",
   "metadata": {},
   "source": [
    "**Question 2:** Should the artist choose to release a personal product or a collaboration in 2024? Compare the streams between the collaboration and the single to see which one is more effective?\n",
    "- Purpose: Compare the streams between the collaboration and the single to see which one is more effective. From that, we can provide insights about the trend of collaboration and developed trends for the artist in 2024 (working alone or collaborating with other artists).\n",
    "- Steps to answer:\n",
    "    + Identify the number of songs that are collaboration and single in 2024.\n",
    "    + Calculate the average number of streams for solo and collaboration in 2024.\n",
    "    + Compare the average number of streams between solo and collaboration in 2024.\n",
    "    + Provide insights and determine which strategy is more effective for the artist in 2024."
   ]
  },
  {
   "cell_type": "code",
   "execution_count": null,
   "metadata": {},
   "outputs": [],
   "source": []
  },
  {
   "cell_type": "markdown",
   "metadata": {},
   "source": [
    "**Question 3:** How the artist's market share based on audience's preference in 2024, Vietnamese or international artist?\n",
    "- Purpose: Identify the artist with the most songs on the chart, the number of songs, and whether the artist is Vietnamese or international. From that, we can provide insights on the audience's preference for Vietnamese or international artists in 2024.\n",
    "- Steps to answer:\n",
    "    + Calculate the number of songs each artist has on the chart in 2024.\n",
    "    + Identify the artist with the most songs on the chart in 2024.\n",
    "    + Determine whether the artist is Vietnamese or international.\n",
    "    + Provide insights on the audience's preference for artists in 2024."
   ]
  },
  {
   "cell_type": "code",
   "execution_count": null,
   "metadata": {},
   "outputs": [],
   "source": []
  },
  {
   "cell_type": "markdown",
   "metadata": {},
   "source": [
    "**Question 4:** What is the trend of removing a song from the chart top 20?\n",
    "- Purpose: Identify the trend of removing a song from the chart top 20. From that, we can provide insights on the trend of turnover a song from the chart in 2024.\n",
    "- Steps to answer:\n",
    "    + Filter the DataFrame for songs that have been in the top 20.\n",
    "    + Calculate the duration each song stays in the top 20.\n",
    "    + Compute the average duration.\n",
    "    + Analyze the trend of song turnover in the top 20."
   ]
  },
  {
   "cell_type": "code",
   "execution_count": null,
   "metadata": {},
   "outputs": [],
   "source": []
  },
  {
   "cell_type": "markdown",
   "metadata": {},
   "source": [
    "**Question 5:** What is the average time a song rises to the top 20 of the chart wheather calculated from the release date?\n",
    "- Purpose: Gain the average time a song rises to the top 20 of the chart from the release date. From that, we can provide insights on the time it takes for a song to rise to the top 20 of the chart in 2024.\n",
    "- Steps to answer:\n",
    "    + Calculate the time each song rises to the top 20 from the release date.\n",
    "    + Compute the average time.\n",
    "    + Analyze the trend of the time it takes for a song to rise to the top 20."
   ]
  },
  {
   "cell_type": "code",
   "execution_count": null,
   "metadata": {},
   "outputs": [],
   "source": []
  },
  {
   "cell_type": "markdown",
   "metadata": {},
   "source": [
    "Save the DataFrame to a new csv file named `spotify_charts_cleaned_v2.csv` in the folder `cleaned_data`."
   ]
  },
  {
   "cell_type": "code",
   "execution_count": null,
   "metadata": {},
   "outputs": [],
   "source": [
    "df.to_csv('cleaned_data/spotify_charts_cleaned_v2.csv', index=False)"
   ]
  }
 ],
 "metadata": {
  "kernelspec": {
   "display_name": "min_ds-env2",
   "language": "python",
   "name": "python3"
  },
  "language_info": {
   "codemirror_mode": {
    "name": "ipython",
    "version": 3
   },
   "file_extension": ".py",
   "mimetype": "text/x-python",
   "name": "python",
   "nbconvert_exporter": "python",
   "pygments_lexer": "ipython3",
   "version": "3.10.15"
  }
 },
 "nbformat": 4,
 "nbformat_minor": 2
}
