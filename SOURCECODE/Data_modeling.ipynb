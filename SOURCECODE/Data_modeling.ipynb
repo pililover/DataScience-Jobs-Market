{
 "cells": [
  {
   "cell_type": "markdown",
   "metadata": {},
   "source": [
    "<div style=\"font-family: Arial, Helvetica, sans-serif;\">\n",
    "    <div style=\"display: flex;padding-top: 20px\">\n",
    "        <div><strong>Course:</strong> Introduction to Data Science</div>\n",
    "    </div>\n",
    "    <div style=\"display: flex;padding-top: 20px\">\n",
    "        <div style=\"padding-right: 10px;\"><strong>Class:</strong> KHDL1</div>\n",
    "        <div></div>\n",
    "    </div>\n",
    "    <div style=\"display: flex;padding-top: 20px\">\n",
    "        <div style=\"padding-right: 10px;\"><strong>Group:</strong> 11 - HAHA</div>\n",
    "    </div>\n",
    "    <div>\n",
    "        <div style=\"display: flex;padding-top: 20px\">\n",
    "            <div style=\"padding-right: 10px;\"><strong>Members:</strong></div>\n",
    "            <div></div>\n",
    "        </div>\n",
    "        <table style=\"font-size: 15px; display:flex;padding-top: 20px\">\n",
    "            <tr>\n",
    "                <th>No.</th>\n",
    "                <th>Student ID</th>\n",
    "                <th>Name</th>\n",
    "            </tr>\n",
    "            <tr>\n",
    "                <td>1</td>\n",
    "                <td>22127008</td>\n",
    "                <td style=\"text-align:left;\">Đặng Châu Anh</td>\n",
    "            </tr>\n",
    "            <tr>\n",
    "                <td>2</td>\n",
    "                <td>22127014</td>\n",
    "                <td style=\"text-align:left;\">Nguyễn Kim Anh</td>\n",
    "            </tr>\n",
    "            <tr>\n",
    "                <td>3</td>\n",
    "                <td>22127147</td>\n",
    "                <td style=\"text-align:left;\">Đỗ Minh Huy</td>\n",
    "            </tr>\n",
    "            <tr>\n",
    "                <td>4</td>\n",
    "                <td>22127170</td>\n",
    "                <td style=\"text-align:left;\">Trần Dịu Huyền</td>\n",
    "            </tr>\n",
    "        </table>\n",
    "    </div>\n",
    "    <div style=\"font-size: 25px ;font-weight: 800; text-align: center;padding-top: 20px;\">FINAL PROJECT</div>\n",
    "    <div style=\"font-size: 20px ;font-weight: 800; text-align: center;padding-top: 20px;\">SPOTIFY 2024 REWIND - DATA MODELING</div>\n",
    "</div>"
   ]
  },
  {
   "cell_type": "markdown",
   "metadata": {},
   "source": [
    "# **Table of content**\n",
    "1. [Import package](#1)\n",
    "2. [Load data](#2)\n",
    "3. [Data preprocessing](#3)\n",
    "\n",
    "    3.1. [Feature Selection and Feature Engineering](#3.1)\n",
    "    \n",
    "    3.2. [Encoding Categorical Variables](#3.2)\n",
    "\n",
    "    3.3. [Data normalization](#3.3)\n",
    "\n",
    "    3.4. [Sample selection](#3.4)\n",
    "    \n",
    "4. [Data modeling](#4)\n",
    "\n",
    "    4.3. [Bagging](#4.3)"
   ]
  },
  {
   "cell_type": "markdown",
   "metadata": {},
   "source": [
    "# **Data Modeling**\n",
    "## **Import packages**\n",
    "<a id=\"1\"></a>"
   ]
  },
  {
   "cell_type": "code",
   "execution_count": 156,
   "metadata": {},
   "outputs": [],
   "source": [
    "import pandas as pd\n",
    "import numpy as np\n",
    "import re\n",
    "import matplotlib.pyplot as plt\n",
    "import seaborn as sns\n",
    "import time\n",
    "from sklearn.model_selection import train_test_split, RandomizedSearchCV\n",
    "from sklearn.preprocessing import StandardScaler\n",
    "from sklearn.tree import DecisionTreeRegressor\n",
    "from sklearn.ensemble import BaggingRegressor\n",
    "from sklearn.metrics import accuracy_score, classification_report, confusion_matrix"
   ]
  },
  {
   "cell_type": "markdown",
   "metadata": {},
   "source": [
    "## **Load data**\n",
    "<a id=\"2\"></a>\n",
    "Read data from csv data files in folder `spotify_charts_cleaned_final` into a DataFrame.\n"
   ]
  },
  {
   "cell_type": "code",
   "execution_count": 157,
   "metadata": {},
   "outputs": [
    {
     "data": {
      "text/html": [
       "<div>\n",
       "<style scoped>\n",
       "    .dataframe tbody tr th:only-of-type {\n",
       "        vertical-align: middle;\n",
       "    }\n",
       "\n",
       "    .dataframe tbody tr th {\n",
       "        vertical-align: top;\n",
       "    }\n",
       "\n",
       "    .dataframe thead th {\n",
       "        text-align: right;\n",
       "    }\n",
       "</style>\n",
       "<table border=\"1\" class=\"dataframe\">\n",
       "  <thead>\n",
       "    <tr style=\"text-align: right;\">\n",
       "      <th></th>\n",
       "      <th>rank</th>\n",
       "      <th>uri</th>\n",
       "      <th>artist_names</th>\n",
       "      <th>track_name</th>\n",
       "      <th>source</th>\n",
       "      <th>peak_rank</th>\n",
       "      <th>previous_rank</th>\n",
       "      <th>weeks_on_chart</th>\n",
       "      <th>streams</th>\n",
       "      <th>month</th>\n",
       "      <th>release_date</th>\n",
       "      <th>duration</th>\n",
       "      <th>rank_history</th>\n",
       "    </tr>\n",
       "  </thead>\n",
       "  <tbody>\n",
       "    <tr>\n",
       "      <th>240</th>\n",
       "      <td>41</td>\n",
       "      <td>7Ebm9NxzNhUX2FxzBl1kwm</td>\n",
       "      <td>Ngọt, Thỏ Trauma</td>\n",
       "      <td>02 Mơ Làm Ma</td>\n",
       "      <td>Ngọt</td>\n",
       "      <td>41</td>\n",
       "      <td>-1</td>\n",
       "      <td>1</td>\n",
       "      <td>321439</td>\n",
       "      <td>2</td>\n",
       "      <td>2024-02-23</td>\n",
       "      <td>177.0</td>\n",
       "      <td>[('2024/02/29', 41), ('2024/03/07', 107)]</td>\n",
       "    </tr>\n",
       "    <tr>\n",
       "      <th>226</th>\n",
       "      <td>27</td>\n",
       "      <td>3vWCRttEOSRmXZs8jfAPSX</td>\n",
       "      <td>Ngọt</td>\n",
       "      <td>01 Chuyện Dở Dang</td>\n",
       "      <td>Ngọt</td>\n",
       "      <td>27</td>\n",
       "      <td>-1</td>\n",
       "      <td>1</td>\n",
       "      <td>368503</td>\n",
       "      <td>2</td>\n",
       "      <td>2024-02-23</td>\n",
       "      <td>212.0</td>\n",
       "      <td>[('2024/02/29', 27), ('2024/03/07', 89), ('202...</td>\n",
       "    </tr>\n",
       "    <tr>\n",
       "      <th>19</th>\n",
       "      <td>20</td>\n",
       "      <td>2doGmsaPLdot51o80juiYU</td>\n",
       "      <td>Obito, Shiki, RPT MCK</td>\n",
       "      <td>Đánh Đổi</td>\n",
       "      <td>12 trái lê</td>\n",
       "      <td>7</td>\n",
       "      <td>23</td>\n",
       "      <td>17</td>\n",
       "      <td>486506</td>\n",
       "      <td>1</td>\n",
       "      <td>2023-10-10</td>\n",
       "      <td>227.0</td>\n",
       "      <td>[('2023/10/12', 60), ('2023/10/19', 7), ('2023...</td>\n",
       "    </tr>\n",
       "    <tr>\n",
       "      <th>1045</th>\n",
       "      <td>46</td>\n",
       "      <td>2qSkIjg1o9h3YT9RAgYN75</td>\n",
       "      <td>Sabrina Carpenter</td>\n",
       "      <td>Espresso</td>\n",
       "      <td>Island Records</td>\n",
       "      <td>13</td>\n",
       "      <td>41</td>\n",
       "      <td>11</td>\n",
       "      <td>268747</td>\n",
       "      <td>6</td>\n",
       "      <td>2024-04-12</td>\n",
       "      <td>175.0</td>\n",
       "      <td>[('2024/04/18', 4), ('2024/04/25', 3), ('2024/...</td>\n",
       "    </tr>\n",
       "    <tr>\n",
       "      <th>946</th>\n",
       "      <td>147</td>\n",
       "      <td>2PYDUM2IC01FOTDLQdFxJP</td>\n",
       "      <td>W/N, Duongg, Nau</td>\n",
       "      <td>3 1 0 7 - 2 (feat. DuongG &amp; Nau)</td>\n",
       "      <td>GUM GROUP</td>\n",
       "      <td>27</td>\n",
       "      <td>149</td>\n",
       "      <td>171</td>\n",
       "      <td>141113</td>\n",
       "      <td>5</td>\n",
       "      <td>2021-02-04</td>\n",
       "      <td>269.0</td>\n",
       "      <td>[('2021/02/11', 67), ('2021/02/18', 53), ('202...</td>\n",
       "    </tr>\n",
       "  </tbody>\n",
       "</table>\n",
       "</div>"
      ],
      "text/plain": [
       "      rank                     uri           artist_names  \\\n",
       "240     41  7Ebm9NxzNhUX2FxzBl1kwm       Ngọt, Thỏ Trauma   \n",
       "226     27  3vWCRttEOSRmXZs8jfAPSX                   Ngọt   \n",
       "19      20  2doGmsaPLdot51o80juiYU  Obito, Shiki, RPT MCK   \n",
       "1045    46  2qSkIjg1o9h3YT9RAgYN75      Sabrina Carpenter   \n",
       "946    147  2PYDUM2IC01FOTDLQdFxJP       W/N, Duongg, Nau   \n",
       "\n",
       "                            track_name          source  peak_rank  \\\n",
       "240                       02 Mơ Làm Ma            Ngọt         41   \n",
       "226                  01 Chuyện Dở Dang            Ngọt         27   \n",
       "19                            Đánh Đổi      12 trái lê          7   \n",
       "1045                          Espresso  Island Records         13   \n",
       "946   3 1 0 7 - 2 (feat. DuongG & Nau)       GUM GROUP         27   \n",
       "\n",
       "      previous_rank  weeks_on_chart  streams  month release_date  duration  \\\n",
       "240              -1               1   321439      2   2024-02-23     177.0   \n",
       "226              -1               1   368503      2   2024-02-23     212.0   \n",
       "19               23              17   486506      1   2023-10-10     227.0   \n",
       "1045             41              11   268747      6   2024-04-12     175.0   \n",
       "946             149             171   141113      5   2021-02-04     269.0   \n",
       "\n",
       "                                           rank_history  \n",
       "240           [('2024/02/29', 41), ('2024/03/07', 107)]  \n",
       "226   [('2024/02/29', 27), ('2024/03/07', 89), ('202...  \n",
       "19    [('2023/10/12', 60), ('2023/10/19', 7), ('2023...  \n",
       "1045  [('2024/04/18', 4), ('2024/04/25', 3), ('2024/...  \n",
       "946   [('2021/02/11', 67), ('2021/02/18', 53), ('202...  "
      ]
     },
     "execution_count": 157,
     "metadata": {},
     "output_type": "execute_result"
    }
   ],
   "source": [
    "df = pd.read_csv('cleaned_data/spotify_charts_cleaned_final.csv')\n",
    "df.sample(5)"
   ]
  },
  {
   "cell_type": "markdown",
   "metadata": {},
   "source": [
    "# **Data Preprocessing**\n",
    "<a id=\"3\"></a>\n",
    "Data is already cleaned, so we don't need to clean it again. We will do some preprocessing steps to prepare data for modeling."
   ]
  },
  {
   "cell_type": "markdown",
   "metadata": {},
   "source": [
    "## **Feature Selection and Feature Engineering**\n",
    "<a id=\"3.1\"></a>\n",
    "\n",
    "For the purpose of this project, we will drop out unnecessary columns and keep only the columns that are useful for modeling. So as the first step, we will drop out the unnecessary columns: `source`. Because in Vietnam, we have too many music sources, and it is not necessary to keep this column.\n"
   ]
  },
  {
   "cell_type": "code",
   "execution_count": 158,
   "metadata": {},
   "outputs": [
    {
     "name": "stdout",
     "output_type": "stream",
     "text": [
      "<class 'pandas.core.frame.DataFrame'>\n",
      "RangeIndex: 2000 entries, 0 to 1999\n",
      "Data columns (total 12 columns):\n",
      " #   Column          Non-Null Count  Dtype  \n",
      "---  ------          --------------  -----  \n",
      " 0   rank            2000 non-null   int64  \n",
      " 1   uri             2000 non-null   object \n",
      " 2   artist_names    2000 non-null   object \n",
      " 3   track_name      2000 non-null   object \n",
      " 4   peak_rank       2000 non-null   int64  \n",
      " 5   previous_rank   2000 non-null   int64  \n",
      " 6   weeks_on_chart  2000 non-null   int64  \n",
      " 7   streams         2000 non-null   int64  \n",
      " 8   month           2000 non-null   int64  \n",
      " 9   release_date    2000 non-null   object \n",
      " 10  duration        2000 non-null   float64\n",
      " 11  rank_history    2000 non-null   object \n",
      "dtypes: float64(1), int64(6), object(5)\n",
      "memory usage: 187.6+ KB\n"
     ]
    }
   ],
   "source": [
    "df = df.drop(columns=['source'])\n",
    "df.info()"
   ]
  },
  {
   "cell_type": "markdown",
   "metadata": {},
   "source": [
    "As we see in `df.info()`, `release_date` is an object type, so we need to convert it to datetime type. Moreover, we also have the first date that the rank fluctuates in `rank_history`, so we need to extract the first date from `rank_history` as the `trending_date` and convert it to datetime type."
   ]
  },
  {
   "cell_type": "code",
   "execution_count": 159,
   "metadata": {},
   "outputs": [],
   "source": [
    "def get_first_trending_date(row):\n",
    "    date = row.split(', ')[0]\n",
    "    date = date[2:-1]\n",
    "    return date\n",
    "\n",
    "# Convert release_date columns to datetime\n",
    "df['release_date'] = pd.to_datetime(df['release_date'])\n",
    "\n",
    "# Get the first trending date and convert it to datetime\n",
    "df['trending_date'] = df['rank_history'].apply(lambda x: get_first_trending_date(x))\n",
    "df['trending_date'] = pd.to_datetime(df['trending_date'])"
   ]
  },
  {
   "cell_type": "markdown",
   "metadata": {},
   "source": [
    "Before do further steps, we will check the missing values in the dataset. "
   ]
  },
  {
   "cell_type": "code",
   "execution_count": 160,
   "metadata": {},
   "outputs": [
    {
     "name": "stdout",
     "output_type": "stream",
     "text": [
      "Missing values for trending date: 163 (8.15%)\n",
      "Missing values for release date: 0 (0.00%)\n"
     ]
    }
   ],
   "source": [
    "missing_values_trending = df['trending_date'].isna().sum()\n",
    "missing_ratio_trending = missing_values_trending / len(df) * 100\n",
    "print(f'Missing values for trending date: {missing_values_trending} ({missing_ratio_trending:.2f}%)')\n",
    "\n",
    "missing_values_release = df['release_date'].isna().sum()\n",
    "missing_ratio_release = missing_values_release / len(df) * 100\n",
    "print(f'Missing values for release date: {missing_values_release} ({missing_ratio_release:.2f}%)')"
   ]
  },
  {
   "cell_type": "markdown",
   "metadata": {},
   "source": [
    "We found that there are some missing values in `trending_date`. We will fill them with the first date of the month of that song in `month` column for `trending_date`. Because we can't know the exact date of the song, but we can know the month of the song."
   ]
  },
  {
   "cell_type": "code",
   "execution_count": 161,
   "metadata": {},
   "outputs": [
    {
     "data": {
      "text/plain": [
       "0"
      ]
     },
     "execution_count": 161,
     "metadata": {},
     "output_type": "execute_result"
    }
   ],
   "source": [
    "for index, row in df.iterrows():\n",
    "    if pd.isna(row['trending_date']) or row['rank_history'] == '[]':\n",
    "        trending_date = f\"2024-{row['month']:02d}-01\"\n",
    "        df.at[index, 'trending_date'] = trending_date\n",
    "        \n",
    "df['trending_date'].isna().sum()"
   ]
  },
  {
   "cell_type": "markdown",
   "metadata": {},
   "source": [
    "But we will not set two columns (`release_date` and `trending_date`) directly, we will calculate the difference between `trending_date` and `release_date` to get the `days_to_trend` column. This column will help us to know how many days it takes for a song to be on the chart after its release date. Furthermore, we will also extract the the month and year from both `release_date`, `trending_date` to get `release_month`, `release_year` and `trending_month`, `trending_year` respectively. These columns will help us to know the month and year of the release date and the trending date of a song. Moveover, we will rename the `month` column to `current_month` to avoid confusion."
   ]
  },
  {
   "cell_type": "code",
   "execution_count": 162,
   "metadata": {},
   "outputs": [],
   "source": [
    "# Convert trending_date columns to datetime\n",
    "df['trending_date'] = pd.to_datetime(df['trending_date'])\n",
    "\n",
    "# Split release_time into year, month\n",
    "df['release_year'] = df['release_date'].dt.year\n",
    "df['release_month'] = df['release_date'].dt.month\n",
    "\n",
    "# Split trending_time into year, month\n",
    "df['trending_year'] = df['trending_date'].dt.year\n",
    "df['trending_month'] = df['trending_date'].dt.month\n",
    "\n",
    "# Days to trend\n",
    "df['days_to_trend'] = (df['trending_date'] - df['release_date']).dt.days\n",
    "\n",
    "# Rename `month` column to `current_month`\n",
    "df = df.rename(columns={'month': 'current_month'})"
   ]
  },
  {
   "cell_type": "markdown",
   "metadata": {},
   "source": [
    "And, this is the final dataset after feature selection."
   ]
  },
  {
   "cell_type": "code",
   "execution_count": 163,
   "metadata": {},
   "outputs": [
    {
     "name": "stdout",
     "output_type": "stream",
     "text": [
      "<class 'pandas.core.frame.DataFrame'>\n",
      "RangeIndex: 2000 entries, 0 to 1999\n",
      "Data columns (total 18 columns):\n",
      " #   Column          Non-Null Count  Dtype         \n",
      "---  ------          --------------  -----         \n",
      " 0   rank            2000 non-null   int64         \n",
      " 1   uri             2000 non-null   object        \n",
      " 2   artist_names    2000 non-null   object        \n",
      " 3   track_name      2000 non-null   object        \n",
      " 4   peak_rank       2000 non-null   int64         \n",
      " 5   previous_rank   2000 non-null   int64         \n",
      " 6   weeks_on_chart  2000 non-null   int64         \n",
      " 7   streams         2000 non-null   int64         \n",
      " 8   current_month   2000 non-null   int64         \n",
      " 9   release_date    2000 non-null   datetime64[ns]\n",
      " 10  duration        2000 non-null   float64       \n",
      " 11  rank_history    2000 non-null   object        \n",
      " 12  trending_date   2000 non-null   datetime64[ns]\n",
      " 13  release_year    2000 non-null   int64         \n",
      " 14  release_month   2000 non-null   int64         \n",
      " 15  trending_year   2000 non-null   int64         \n",
      " 16  trending_month  2000 non-null   int64         \n",
      " 17  days_to_trend   2000 non-null   int64         \n",
      "dtypes: datetime64[ns](2), float64(1), int64(11), object(4)\n",
      "memory usage: 281.4+ KB\n"
     ]
    },
    {
     "data": {
      "text/html": [
       "<div>\n",
       "<style scoped>\n",
       "    .dataframe tbody tr th:only-of-type {\n",
       "        vertical-align: middle;\n",
       "    }\n",
       "\n",
       "    .dataframe tbody tr th {\n",
       "        vertical-align: top;\n",
       "    }\n",
       "\n",
       "    .dataframe thead th {\n",
       "        text-align: right;\n",
       "    }\n",
       "</style>\n",
       "<table border=\"1\" class=\"dataframe\">\n",
       "  <thead>\n",
       "    <tr style=\"text-align: right;\">\n",
       "      <th></th>\n",
       "      <th>rank</th>\n",
       "      <th>uri</th>\n",
       "      <th>artist_names</th>\n",
       "      <th>track_name</th>\n",
       "      <th>peak_rank</th>\n",
       "      <th>previous_rank</th>\n",
       "      <th>weeks_on_chart</th>\n",
       "      <th>streams</th>\n",
       "      <th>current_month</th>\n",
       "      <th>release_date</th>\n",
       "      <th>duration</th>\n",
       "      <th>rank_history</th>\n",
       "      <th>trending_date</th>\n",
       "      <th>release_year</th>\n",
       "      <th>release_month</th>\n",
       "      <th>trending_year</th>\n",
       "      <th>trending_month</th>\n",
       "      <th>days_to_trend</th>\n",
       "    </tr>\n",
       "  </thead>\n",
       "  <tbody>\n",
       "    <tr>\n",
       "      <th>899</th>\n",
       "      <td>100</td>\n",
       "      <td>36OyVzUmUFb1MTTzy3YXbh</td>\n",
       "      <td>Phan Mạnh Quỳnh</td>\n",
       "      <td>Sau Lời Từ Khước (Theme Song From \"MAI\")</td>\n",
       "      <td>3</td>\n",
       "      <td>74</td>\n",
       "      <td>16</td>\n",
       "      <td>175002</td>\n",
       "      <td>5</td>\n",
       "      <td>2024-02-14</td>\n",
       "      <td>250.0</td>\n",
       "      <td>[('2024/02/22', 3), ('2024/02/29', 3), ('2024/...</td>\n",
       "      <td>2024-02-22</td>\n",
       "      <td>2024</td>\n",
       "      <td>2</td>\n",
       "      <td>2024</td>\n",
       "      <td>2</td>\n",
       "      <td>8</td>\n",
       "    </tr>\n",
       "    <tr>\n",
       "      <th>1405</th>\n",
       "      <td>6</td>\n",
       "      <td>5oFEvbM7lGnx8jfAkuhVyo</td>\n",
       "      <td>AMEE, RPT MCK</td>\n",
       "      <td>MỘNG YU</td>\n",
       "      <td>3</td>\n",
       "      <td>4</td>\n",
       "      <td>5</td>\n",
       "      <td>873461</td>\n",
       "      <td>8</td>\n",
       "      <td>2024-08-02</td>\n",
       "      <td>203.0</td>\n",
       "      <td>[('2024/08/08', 4), ('2024/08/15', 3), ('2024/...</td>\n",
       "      <td>2024-08-08</td>\n",
       "      <td>2024</td>\n",
       "      <td>8</td>\n",
       "      <td>2024</td>\n",
       "      <td>8</td>\n",
       "      <td>6</td>\n",
       "    </tr>\n",
       "    <tr>\n",
       "      <th>216</th>\n",
       "      <td>17</td>\n",
       "      <td>5C1O3fpMsiisJpHiB1uuDf</td>\n",
       "      <td>52Hz, RIO</td>\n",
       "      <td>ĐỢI (Prod. RIO)</td>\n",
       "      <td>14</td>\n",
       "      <td>19</td>\n",
       "      <td>8</td>\n",
       "      <td>446788</td>\n",
       "      <td>2</td>\n",
       "      <td>2023-12-15</td>\n",
       "      <td>197.0</td>\n",
       "      <td>[('2024/01/11', 102), ('2024/01/18', 47), ('20...</td>\n",
       "      <td>2024-01-11</td>\n",
       "      <td>2023</td>\n",
       "      <td>12</td>\n",
       "      <td>2024</td>\n",
       "      <td>1</td>\n",
       "      <td>27</td>\n",
       "    </tr>\n",
       "    <tr>\n",
       "      <th>1705</th>\n",
       "      <td>106</td>\n",
       "      <td>6Hs2xIgB8nzyGFDvVA8lFa</td>\n",
       "      <td>Madihu, Low G</td>\n",
       "      <td>Có Em</td>\n",
       "      <td>4</td>\n",
       "      <td>113</td>\n",
       "      <td>128</td>\n",
       "      <td>207800</td>\n",
       "      <td>9</td>\n",
       "      <td>2022-04-22</td>\n",
       "      <td>219.0</td>\n",
       "      <td>[('2022/04/28', 45), ('2022/05/05', 11), ('202...</td>\n",
       "      <td>2022-04-28</td>\n",
       "      <td>2022</td>\n",
       "      <td>4</td>\n",
       "      <td>2022</td>\n",
       "      <td>4</td>\n",
       "      <td>6</td>\n",
       "    </tr>\n",
       "    <tr>\n",
       "      <th>41</th>\n",
       "      <td>42</td>\n",
       "      <td>5C1O3fpMsiisJpHiB1uuDf</td>\n",
       "      <td>52Hz, RIO</td>\n",
       "      <td>ĐỢI (Prod. RIO)</td>\n",
       "      <td>42</td>\n",
       "      <td>47</td>\n",
       "      <td>4</td>\n",
       "      <td>365126</td>\n",
       "      <td>1</td>\n",
       "      <td>2023-12-15</td>\n",
       "      <td>197.0</td>\n",
       "      <td>[('2024/01/11', 102), ('2024/01/18', 47), ('20...</td>\n",
       "      <td>2024-01-11</td>\n",
       "      <td>2023</td>\n",
       "      <td>12</td>\n",
       "      <td>2024</td>\n",
       "      <td>1</td>\n",
       "      <td>27</td>\n",
       "    </tr>\n",
       "  </tbody>\n",
       "</table>\n",
       "</div>"
      ],
      "text/plain": [
       "      rank                     uri     artist_names  \\\n",
       "899    100  36OyVzUmUFb1MTTzy3YXbh  Phan Mạnh Quỳnh   \n",
       "1405     6  5oFEvbM7lGnx8jfAkuhVyo    AMEE, RPT MCK   \n",
       "216     17  5C1O3fpMsiisJpHiB1uuDf        52Hz, RIO   \n",
       "1705   106  6Hs2xIgB8nzyGFDvVA8lFa    Madihu, Low G   \n",
       "41      42  5C1O3fpMsiisJpHiB1uuDf        52Hz, RIO   \n",
       "\n",
       "                                    track_name  peak_rank  previous_rank  \\\n",
       "899   Sau Lời Từ Khước (Theme Song From \"MAI\")          3             74   \n",
       "1405                                   MỘNG YU          3              4   \n",
       "216                            ĐỢI (Prod. RIO)         14             19   \n",
       "1705                                     Có Em          4            113   \n",
       "41                             ĐỢI (Prod. RIO)         42             47   \n",
       "\n",
       "      weeks_on_chart  streams  current_month release_date  duration  \\\n",
       "899               16   175002              5   2024-02-14     250.0   \n",
       "1405               5   873461              8   2024-08-02     203.0   \n",
       "216                8   446788              2   2023-12-15     197.0   \n",
       "1705             128   207800              9   2022-04-22     219.0   \n",
       "41                 4   365126              1   2023-12-15     197.0   \n",
       "\n",
       "                                           rank_history trending_date  \\\n",
       "899   [('2024/02/22', 3), ('2024/02/29', 3), ('2024/...    2024-02-22   \n",
       "1405  [('2024/08/08', 4), ('2024/08/15', 3), ('2024/...    2024-08-08   \n",
       "216   [('2024/01/11', 102), ('2024/01/18', 47), ('20...    2024-01-11   \n",
       "1705  [('2022/04/28', 45), ('2022/05/05', 11), ('202...    2022-04-28   \n",
       "41    [('2024/01/11', 102), ('2024/01/18', 47), ('20...    2024-01-11   \n",
       "\n",
       "      release_year  release_month  trending_year  trending_month  \\\n",
       "899           2024              2           2024               2   \n",
       "1405          2024              8           2024               8   \n",
       "216           2023             12           2024               1   \n",
       "1705          2022              4           2022               4   \n",
       "41            2023             12           2024               1   \n",
       "\n",
       "      days_to_trend  \n",
       "899               8  \n",
       "1405              6  \n",
       "216              27  \n",
       "1705              6  \n",
       "41               27  "
      ]
     },
     "metadata": {},
     "output_type": "display_data"
    }
   ],
   "source": [
    "df.info()\n",
    "display(df.sample(5))"
   ]
  },
  {
   "cell_type": "markdown",
   "metadata": {},
   "source": [
    "There are some abnormal in `days_to_trend` column (negative values). We will find out how many rows have negative values in `days_to_trend` column."
   ]
  },
  {
   "cell_type": "code",
   "execution_count": 164,
   "metadata": {},
   "outputs": [
    {
     "name": "stdout",
     "output_type": "stream",
     "text": [
      "Negative values in days_to_trend: 197\n",
      "Percentage of negative values in days_to_trend: 9.85%\n"
     ]
    },
    {
     "data": {
      "text/html": [
       "<div>\n",
       "<style scoped>\n",
       "    .dataframe tbody tr th:only-of-type {\n",
       "        vertical-align: middle;\n",
       "    }\n",
       "\n",
       "    .dataframe tbody tr th {\n",
       "        vertical-align: top;\n",
       "    }\n",
       "\n",
       "    .dataframe thead th {\n",
       "        text-align: right;\n",
       "    }\n",
       "</style>\n",
       "<table border=\"1\" class=\"dataframe\">\n",
       "  <thead>\n",
       "    <tr style=\"text-align: right;\">\n",
       "      <th></th>\n",
       "      <th>rank</th>\n",
       "      <th>uri</th>\n",
       "      <th>artist_names</th>\n",
       "      <th>track_name</th>\n",
       "      <th>peak_rank</th>\n",
       "      <th>previous_rank</th>\n",
       "      <th>weeks_on_chart</th>\n",
       "      <th>streams</th>\n",
       "      <th>current_month</th>\n",
       "      <th>release_date</th>\n",
       "      <th>duration</th>\n",
       "      <th>rank_history</th>\n",
       "      <th>trending_date</th>\n",
       "      <th>release_year</th>\n",
       "      <th>release_month</th>\n",
       "      <th>trending_year</th>\n",
       "      <th>trending_month</th>\n",
       "      <th>days_to_trend</th>\n",
       "    </tr>\n",
       "  </thead>\n",
       "  <tbody>\n",
       "    <tr>\n",
       "      <th>0</th>\n",
       "      <td>1</td>\n",
       "      <td>2HRgqmZQC0MC7GeNuDIXHN</td>\n",
       "      <td>Jung Kook, Latto</td>\n",
       "      <td>Seven (feat. Latto) (Explicit Ver.)</td>\n",
       "      <td>1</td>\n",
       "      <td>1</td>\n",
       "      <td>29</td>\n",
       "      <td>1178606</td>\n",
       "      <td>1</td>\n",
       "      <td>2023-11-03</td>\n",
       "      <td>184.0</td>\n",
       "      <td>[('2023/07/20', 1), ('2023/07/27', 1), ('2023/...</td>\n",
       "      <td>2023-07-20</td>\n",
       "      <td>2023</td>\n",
       "      <td>11</td>\n",
       "      <td>2023</td>\n",
       "      <td>7</td>\n",
       "      <td>-106</td>\n",
       "    </tr>\n",
       "    <tr>\n",
       "      <th>1</th>\n",
       "      <td>2</td>\n",
       "      <td>4qYfRfSxsmhJ1WMaywtLyI</td>\n",
       "      <td>Wren Evans, itsnk</td>\n",
       "      <td>Từng Quen</td>\n",
       "      <td>1</td>\n",
       "      <td>2</td>\n",
       "      <td>14</td>\n",
       "      <td>1087520</td>\n",
       "      <td>1</td>\n",
       "      <td>2023-12-17</td>\n",
       "      <td>175.0</td>\n",
       "      <td>[('2023/11/02', 2), ('2023/11/09', 2), ('2023/...</td>\n",
       "      <td>2023-11-02</td>\n",
       "      <td>2023</td>\n",
       "      <td>12</td>\n",
       "      <td>2023</td>\n",
       "      <td>11</td>\n",
       "      <td>-45</td>\n",
       "    </tr>\n",
       "    <tr>\n",
       "      <th>14</th>\n",
       "      <td>15</td>\n",
       "      <td>7jLSThU5Kg1RWt19Leiaxm</td>\n",
       "      <td>RPT MCK, Trung Trần</td>\n",
       "      <td>Chìm Sâu</td>\n",
       "      <td>1</td>\n",
       "      <td>16</td>\n",
       "      <td>101</td>\n",
       "      <td>582379</td>\n",
       "      <td>1</td>\n",
       "      <td>2023-03-02</td>\n",
       "      <td>156.0</td>\n",
       "      <td>[('2022/03/03', 5), ('2022/03/10', 3), ('2022/...</td>\n",
       "      <td>2022-03-03</td>\n",
       "      <td>2023</td>\n",
       "      <td>3</td>\n",
       "      <td>2022</td>\n",
       "      <td>3</td>\n",
       "      <td>-364</td>\n",
       "    </tr>\n",
       "    <tr>\n",
       "      <th>16</th>\n",
       "      <td>17</td>\n",
       "      <td>4exlWP8cokkWVCvyP3kg7c</td>\n",
       "      <td>tlinh, 2pillz</td>\n",
       "      <td>nếu lúc đó</td>\n",
       "      <td>1</td>\n",
       "      <td>20</td>\n",
       "      <td>48</td>\n",
       "      <td>540375</td>\n",
       "      <td>1</td>\n",
       "      <td>2023-08-16</td>\n",
       "      <td>264.0</td>\n",
       "      <td>[('2023/03/09', 1), ('2023/03/16', 1), ('2023/...</td>\n",
       "      <td>2023-03-09</td>\n",
       "      <td>2023</td>\n",
       "      <td>8</td>\n",
       "      <td>2023</td>\n",
       "      <td>3</td>\n",
       "      <td>-160</td>\n",
       "    </tr>\n",
       "    <tr>\n",
       "      <th>26</th>\n",
       "      <td>27</td>\n",
       "      <td>0hhF4SJHEosOwZ7gbjgmbf</td>\n",
       "      <td>HIEUTHUHAI</td>\n",
       "      <td>Không Thể Say</td>\n",
       "      <td>7</td>\n",
       "      <td>37</td>\n",
       "      <td>41</td>\n",
       "      <td>439098</td>\n",
       "      <td>1</td>\n",
       "      <td>2023-10-16</td>\n",
       "      <td>228.0</td>\n",
       "      <td>[('2023/04/27', 9), ('2023/05/04', 7), ('2023/...</td>\n",
       "      <td>2023-04-27</td>\n",
       "      <td>2023</td>\n",
       "      <td>10</td>\n",
       "      <td>2023</td>\n",
       "      <td>4</td>\n",
       "      <td>-172</td>\n",
       "    </tr>\n",
       "  </tbody>\n",
       "</table>\n",
       "</div>"
      ],
      "text/plain": [
       "    rank                     uri         artist_names  \\\n",
       "0      1  2HRgqmZQC0MC7GeNuDIXHN     Jung Kook, Latto   \n",
       "1      2  4qYfRfSxsmhJ1WMaywtLyI    Wren Evans, itsnk   \n",
       "14    15  7jLSThU5Kg1RWt19Leiaxm  RPT MCK, Trung Trần   \n",
       "16    17  4exlWP8cokkWVCvyP3kg7c        tlinh, 2pillz   \n",
       "26    27  0hhF4SJHEosOwZ7gbjgmbf           HIEUTHUHAI   \n",
       "\n",
       "                             track_name  peak_rank  previous_rank  \\\n",
       "0   Seven (feat. Latto) (Explicit Ver.)          1              1   \n",
       "1                             Từng Quen          1              2   \n",
       "14                             Chìm Sâu          1             16   \n",
       "16                           nếu lúc đó          1             20   \n",
       "26                        Không Thể Say          7             37   \n",
       "\n",
       "    weeks_on_chart  streams  current_month release_date  duration  \\\n",
       "0               29  1178606              1   2023-11-03     184.0   \n",
       "1               14  1087520              1   2023-12-17     175.0   \n",
       "14             101   582379              1   2023-03-02     156.0   \n",
       "16              48   540375              1   2023-08-16     264.0   \n",
       "26              41   439098              1   2023-10-16     228.0   \n",
       "\n",
       "                                         rank_history trending_date  \\\n",
       "0   [('2023/07/20', 1), ('2023/07/27', 1), ('2023/...    2023-07-20   \n",
       "1   [('2023/11/02', 2), ('2023/11/09', 2), ('2023/...    2023-11-02   \n",
       "14  [('2022/03/03', 5), ('2022/03/10', 3), ('2022/...    2022-03-03   \n",
       "16  [('2023/03/09', 1), ('2023/03/16', 1), ('2023/...    2023-03-09   \n",
       "26  [('2023/04/27', 9), ('2023/05/04', 7), ('2023/...    2023-04-27   \n",
       "\n",
       "    release_year  release_month  trending_year  trending_month  days_to_trend  \n",
       "0           2023             11           2023               7           -106  \n",
       "1           2023             12           2023              11            -45  \n",
       "14          2023              3           2022               3           -364  \n",
       "16          2023              8           2023               3           -160  \n",
       "26          2023             10           2023               4           -172  "
      ]
     },
     "execution_count": 164,
     "metadata": {},
     "output_type": "execute_result"
    }
   ],
   "source": [
    "# Check negative values in days_to_trend\n",
    "negative_days_to_trend = df[df['days_to_trend'] < 0]\n",
    "neg_days_ratio = len(negative_days_to_trend) / len(df) * 100\n",
    "\n",
    "print(f'Negative values in days_to_trend: {len(negative_days_to_trend)}')\n",
    "print(f'Percentage of negative values in days_to_trend: {neg_days_ratio:.2f}%')\n",
    "negative_days_to_trend.head()"
   ]
  },
  {
   "cell_type": "markdown",
   "metadata": {},
   "source": [
    "We can see that the reason for the negative values in `days_to_trend` column is that the `trending_date` is before the `release_date`. We will handle the negative values in `days_to_trend` column by setting the `trending_date` based on the `rank_history` at the time that suitable to the `release_date` and then calculate the `days_to_trend` column again."
   ]
  },
  {
   "cell_type": "code",
   "execution_count": 165,
   "metadata": {},
   "outputs": [],
   "source": [
    "def extract_suitable_date(rank_history, release_date):\n",
    "    date_rank = eval(rank_history)\n",
    "    # Split the date and rank\n",
    "    dates = [date for date, rank in date_rank]  \n",
    "    for date in dates:\n",
    "        if pd.to_datetime(date) >= release_date:\n",
    "            return date\n",
    "    return release_date\n",
    "\n",
    "# Extract the suitable date\n",
    "for index, row in df.iterrows():\n",
    "    if row['days_to_trend'] < 0:\n",
    "        suitable_date = extract_suitable_date(row['rank_history'], row['release_date'])\n",
    "        df.at[index, 'trending_date'] = suitable_date\n",
    "\n",
    "# Convert 'trending_date' to datetime\n",
    "df['trending_date'] = pd.to_datetime(df['trending_date'], errors='coerce')\n",
    "\n",
    "# Calculate 'days_to_trend'\n",
    "df['days_to_trend'] = (df['trending_date'] - df['release_date']).dt.days\n",
    "\n",
    "# Extract year and month from release_date and trending_date\n",
    "df['trending_year'] = df['trending_date'].dt.year\n",
    "df['trending_month'] = df['trending_date'].dt.month"
   ]
  },
  {
   "cell_type": "markdown",
   "metadata": {},
   "source": [
    "Revise the dataset after handling the negative values in `days_to_trend` column to ensure there are no missing values in the dataset."
   ]
  },
  {
   "cell_type": "code",
   "execution_count": 166,
   "metadata": {},
   "outputs": [
    {
     "name": "stdout",
     "output_type": "stream",
     "text": [
      "Missing values in each column:\n",
      "Series([], dtype: int64)\n"
     ]
    },
    {
     "data": {
      "text/html": [
       "<div>\n",
       "<style scoped>\n",
       "    .dataframe tbody tr th:only-of-type {\n",
       "        vertical-align: middle;\n",
       "    }\n",
       "\n",
       "    .dataframe tbody tr th {\n",
       "        vertical-align: top;\n",
       "    }\n",
       "\n",
       "    .dataframe thead th {\n",
       "        text-align: right;\n",
       "    }\n",
       "</style>\n",
       "<table border=\"1\" class=\"dataframe\">\n",
       "  <thead>\n",
       "    <tr style=\"text-align: right;\">\n",
       "      <th></th>\n",
       "      <th>rank</th>\n",
       "      <th>uri</th>\n",
       "      <th>artist_names</th>\n",
       "      <th>track_name</th>\n",
       "      <th>peak_rank</th>\n",
       "      <th>previous_rank</th>\n",
       "      <th>weeks_on_chart</th>\n",
       "      <th>streams</th>\n",
       "      <th>current_month</th>\n",
       "      <th>release_date</th>\n",
       "      <th>duration</th>\n",
       "      <th>rank_history</th>\n",
       "      <th>trending_date</th>\n",
       "      <th>release_year</th>\n",
       "      <th>release_month</th>\n",
       "      <th>trending_year</th>\n",
       "      <th>trending_month</th>\n",
       "      <th>days_to_trend</th>\n",
       "    </tr>\n",
       "  </thead>\n",
       "  <tbody>\n",
       "  </tbody>\n",
       "</table>\n",
       "</div>"
      ],
      "text/plain": [
       "Empty DataFrame\n",
       "Columns: [rank, uri, artist_names, track_name, peak_rank, previous_rank, weeks_on_chart, streams, current_month, release_date, duration, rank_history, trending_date, release_year, release_month, trending_year, trending_month, days_to_trend]\n",
       "Index: []"
      ]
     },
     "execution_count": 166,
     "metadata": {},
     "output_type": "execute_result"
    }
   ],
   "source": [
    "# Fill missing values\n",
    "nan_values = df.isna().sum()\n",
    "print(\"Missing values in each column:\")\n",
    "print(nan_values[nan_values > 0])\n",
    "\n",
    "# Display the rows with missing values\n",
    "missing_values = df[df.isna().any(axis=1)]\n",
    "missing_values"
   ]
  },
  {
   "cell_type": "markdown",
   "metadata": {},
   "source": [
    "Check datatypes of each columns again to make sure that all columns have the correct datatype."
   ]
  },
  {
   "cell_type": "code",
   "execution_count": 167,
   "metadata": {},
   "outputs": [
    {
     "name": "stdout",
     "output_type": "stream",
     "text": [
      "<class 'pandas.core.frame.DataFrame'>\n",
      "RangeIndex: 2000 entries, 0 to 1999\n",
      "Data columns (total 18 columns):\n",
      " #   Column          Non-Null Count  Dtype         \n",
      "---  ------          --------------  -----         \n",
      " 0   rank            2000 non-null   int64         \n",
      " 1   uri             2000 non-null   object        \n",
      " 2   artist_names    2000 non-null   object        \n",
      " 3   track_name      2000 non-null   object        \n",
      " 4   peak_rank       2000 non-null   int64         \n",
      " 5   previous_rank   2000 non-null   int64         \n",
      " 6   weeks_on_chart  2000 non-null   int64         \n",
      " 7   streams         2000 non-null   int64         \n",
      " 8   current_month   2000 non-null   int64         \n",
      " 9   release_date    2000 non-null   datetime64[ns]\n",
      " 10  duration        2000 non-null   float64       \n",
      " 11  rank_history    2000 non-null   object        \n",
      " 12  trending_date   2000 non-null   datetime64[ns]\n",
      " 13  release_year    2000 non-null   int64         \n",
      " 14  release_month   2000 non-null   int64         \n",
      " 15  trending_year   2000 non-null   int64         \n",
      " 16  trending_month  2000 non-null   int64         \n",
      " 17  days_to_trend   2000 non-null   int64         \n",
      "dtypes: datetime64[ns](2), float64(1), int64(11), object(4)\n",
      "memory usage: 281.4+ KB\n"
     ]
    }
   ],
   "source": [
    "df.info()"
   ]
  },
  {
   "cell_type": "markdown",
   "metadata": {},
   "source": [
    "As we see in `df.info()`, we can change the `current_month` column to category type because they are ordinal data and have a limited number of unique values."
   ]
  },
  {
   "cell_type": "code",
   "execution_count": 168,
   "metadata": {},
   "outputs": [
    {
     "name": "stdout",
     "output_type": "stream",
     "text": [
      "<class 'pandas.core.frame.DataFrame'>\n",
      "RangeIndex: 2000 entries, 0 to 1999\n",
      "Data columns (total 18 columns):\n",
      " #   Column          Non-Null Count  Dtype         \n",
      "---  ------          --------------  -----         \n",
      " 0   rank            2000 non-null   int64         \n",
      " 1   uri             2000 non-null   object        \n",
      " 2   artist_names    2000 non-null   object        \n",
      " 3   track_name      2000 non-null   object        \n",
      " 4   peak_rank       2000 non-null   int64         \n",
      " 5   previous_rank   2000 non-null   int64         \n",
      " 6   weeks_on_chart  2000 non-null   int64         \n",
      " 7   streams         2000 non-null   int64         \n",
      " 8   current_month   2000 non-null   object        \n",
      " 9   release_date    2000 non-null   datetime64[ns]\n",
      " 10  duration        2000 non-null   float64       \n",
      " 11  rank_history    2000 non-null   object        \n",
      " 12  trending_date   2000 non-null   datetime64[ns]\n",
      " 13  release_year    2000 non-null   int64         \n",
      " 14  release_month   2000 non-null   int64         \n",
      " 15  trending_year   2000 non-null   int64         \n",
      " 16  trending_month  2000 non-null   int64         \n",
      " 17  days_to_trend   2000 non-null   int64         \n",
      "dtypes: datetime64[ns](2), float64(1), int64(10), object(5)\n",
      "memory usage: 281.4+ KB\n"
     ]
    }
   ],
   "source": [
    "df['current_month'] = df['current_month'].astype('object')\n",
    "df.info()"
   ]
  },
  {
   "cell_type": "markdown",
   "metadata": {},
   "source": [
    "All datatypes are correct. Finally, we will drop out the `uri`, `release_date`, `trending date`, `artist_names`, `track_name` and `rank_history` columns because we don't need them anymore."
   ]
  },
  {
   "cell_type": "code",
   "execution_count": 169,
   "metadata": {},
   "outputs": [],
   "source": [
    "df = df.drop(columns=['uri', 'release_date', 'trending_date', 'rank_history', 'artist_names', 'track_name'])"
   ]
  },
  {
   "cell_type": "markdown",
   "metadata": {},
   "source": [
    "And, this is the final dataset after feature selection."
   ]
  },
  {
   "cell_type": "code",
   "execution_count": 170,
   "metadata": {},
   "outputs": [
    {
     "data": {
      "text/html": [
       "<div>\n",
       "<style scoped>\n",
       "    .dataframe tbody tr th:only-of-type {\n",
       "        vertical-align: middle;\n",
       "    }\n",
       "\n",
       "    .dataframe tbody tr th {\n",
       "        vertical-align: top;\n",
       "    }\n",
       "\n",
       "    .dataframe thead th {\n",
       "        text-align: right;\n",
       "    }\n",
       "</style>\n",
       "<table border=\"1\" class=\"dataframe\">\n",
       "  <thead>\n",
       "    <tr style=\"text-align: right;\">\n",
       "      <th></th>\n",
       "      <th>rank</th>\n",
       "      <th>peak_rank</th>\n",
       "      <th>previous_rank</th>\n",
       "      <th>weeks_on_chart</th>\n",
       "      <th>streams</th>\n",
       "      <th>current_month</th>\n",
       "      <th>duration</th>\n",
       "      <th>release_year</th>\n",
       "      <th>release_month</th>\n",
       "      <th>trending_year</th>\n",
       "      <th>trending_month</th>\n",
       "      <th>days_to_trend</th>\n",
       "    </tr>\n",
       "  </thead>\n",
       "  <tbody>\n",
       "    <tr>\n",
       "      <th>1406</th>\n",
       "      <td>7</td>\n",
       "      <td>5</td>\n",
       "      <td>6</td>\n",
       "      <td>5</td>\n",
       "      <td>710837</td>\n",
       "      <td>8</td>\n",
       "      <td>252.0</td>\n",
       "      <td>2024</td>\n",
       "      <td>8</td>\n",
       "      <td>2024</td>\n",
       "      <td>8</td>\n",
       "      <td>0</td>\n",
       "    </tr>\n",
       "    <tr>\n",
       "      <th>1210</th>\n",
       "      <td>11</td>\n",
       "      <td>4</td>\n",
       "      <td>11</td>\n",
       "      <td>7</td>\n",
       "      <td>520116</td>\n",
       "      <td>7</td>\n",
       "      <td>220.0</td>\n",
       "      <td>2024</td>\n",
       "      <td>6</td>\n",
       "      <td>2024</td>\n",
       "      <td>6</td>\n",
       "      <td>7</td>\n",
       "    </tr>\n",
       "    <tr>\n",
       "      <th>1462</th>\n",
       "      <td>63</td>\n",
       "      <td>3</td>\n",
       "      <td>61</td>\n",
       "      <td>37</td>\n",
       "      <td>258217</td>\n",
       "      <td>8</td>\n",
       "      <td>292.0</td>\n",
       "      <td>2023</td>\n",
       "      <td>12</td>\n",
       "      <td>2023</td>\n",
       "      <td>12</td>\n",
       "      <td>3</td>\n",
       "    </tr>\n",
       "    <tr>\n",
       "      <th>759</th>\n",
       "      <td>160</td>\n",
       "      <td>66</td>\n",
       "      <td>66</td>\n",
       "      <td>2</td>\n",
       "      <td>144363</td>\n",
       "      <td>4</td>\n",
       "      <td>218.0</td>\n",
       "      <td>2024</td>\n",
       "      <td>4</td>\n",
       "      <td>2024</td>\n",
       "      <td>4</td>\n",
       "      <td>7</td>\n",
       "    </tr>\n",
       "    <tr>\n",
       "      <th>864</th>\n",
       "      <td>65</td>\n",
       "      <td>1</td>\n",
       "      <td>68</td>\n",
       "      <td>149</td>\n",
       "      <td>201608</td>\n",
       "      <td>5</td>\n",
       "      <td>240.0</td>\n",
       "      <td>2021</td>\n",
       "      <td>7</td>\n",
       "      <td>2021</td>\n",
       "      <td>8</td>\n",
       "      <td>5</td>\n",
       "    </tr>\n",
       "  </tbody>\n",
       "</table>\n",
       "</div>"
      ],
      "text/plain": [
       "      rank  peak_rank  previous_rank  weeks_on_chart  streams current_month  \\\n",
       "1406     7          5              6               5   710837             8   \n",
       "1210    11          4             11               7   520116             7   \n",
       "1462    63          3             61              37   258217             8   \n",
       "759    160         66             66               2   144363             4   \n",
       "864     65          1             68             149   201608             5   \n",
       "\n",
       "      duration  release_year  release_month  trending_year  trending_month  \\\n",
       "1406     252.0          2024              8           2024               8   \n",
       "1210     220.0          2024              6           2024               6   \n",
       "1462     292.0          2023             12           2023              12   \n",
       "759      218.0          2024              4           2024               4   \n",
       "864      240.0          2021              7           2021               8   \n",
       "\n",
       "      days_to_trend  \n",
       "1406              0  \n",
       "1210              7  \n",
       "1462              3  \n",
       "759               7  \n",
       "864               5  "
      ]
     },
     "execution_count": 170,
     "metadata": {},
     "output_type": "execute_result"
    }
   ],
   "source": [
    "df.sample(5)"
   ]
  },
  {
   "cell_type": "code",
   "execution_count": 171,
   "metadata": {},
   "outputs": [],
   "source": [
    "df.to_csv('cleaned_data/before_encode.csv', index=False)"
   ]
  },
  {
   "cell_type": "markdown",
   "metadata": {},
   "source": [
    "## **Encoding Categorical Variables**\n",
    "<a id=\"3.2\"></a>\n",
    "As we already know, the dataset contains some categorical columns. We need to encode them to numerical values to use them in the model. We will use the one-hot encoding technique to encode the categorical columns. Let's check the categorical columns in the dataset again."
   ]
  },
  {
   "cell_type": "code",
   "execution_count": 172,
   "metadata": {},
   "outputs": [
    {
     "name": "stdout",
     "output_type": "stream",
     "text": [
      "Categorical columns: ['current_month']\n",
      "<class 'pandas.core.frame.DataFrame'>\n",
      "RangeIndex: 2000 entries, 0 to 1999\n",
      "Data columns (total 12 columns):\n",
      " #   Column          Non-Null Count  Dtype  \n",
      "---  ------          --------------  -----  \n",
      " 0   rank            2000 non-null   int64  \n",
      " 1   peak_rank       2000 non-null   int64  \n",
      " 2   previous_rank   2000 non-null   int64  \n",
      " 3   weeks_on_chart  2000 non-null   int64  \n",
      " 4   streams         2000 non-null   int64  \n",
      " 5   current_month   2000 non-null   object \n",
      " 6   duration        2000 non-null   float64\n",
      " 7   release_year    2000 non-null   int64  \n",
      " 8   release_month   2000 non-null   int64  \n",
      " 9   trending_year   2000 non-null   int64  \n",
      " 10  trending_month  2000 non-null   int64  \n",
      " 11  days_to_trend   2000 non-null   int64  \n",
      "dtypes: float64(1), int64(10), object(1)\n",
      "memory usage: 187.6+ KB\n"
     ]
    }
   ],
   "source": [
    "# Find categorical columns\n",
    "categorical_columns = df.select_dtypes(include=['object']).columns.to_list()\n",
    "numerical_columns = df.select_dtypes(exclude=['object']).columns.tolist()\n",
    "print(\"Categorical columns:\", categorical_columns)\n",
    "df.info()"
   ]
  },
  {
   "cell_type": "markdown",
   "metadata": {},
   "source": [
    "It seems that we have set the categorical columns correctly. Now, we will use the one-hot encoding technique to encode the categorical columns."
   ]
  },
  {
   "cell_type": "code",
   "execution_count": 173,
   "metadata": {},
   "outputs": [],
   "source": [
    "# df = pd.get_dummies(df, columns=categorical_columns)\n",
    "# df.sample(5)"
   ]
  },
  {
   "cell_type": "markdown",
   "metadata": {},
   "source": [
    "## **Data normalization**\n",
    "<a id=\"3.3\"></a>\n",
    "We will normalize the numerical columns in the dataset to make the data more consistent and easier to train the model. Before normalizing the data, we revise the outliers in the dataset to decide what method we will use to normalize the data."
   ]
  },
  {
   "cell_type": "code",
   "execution_count": 174,
   "metadata": {},
   "outputs": [
    {
     "name": "stdout",
     "output_type": "stream",
     "text": [
      "Outliers ratio:\n"
     ]
    },
    {
     "data": {
      "text/plain": [
       "rank               0.00\n",
       "peak_rank          5.35\n",
       "previous_rank      0.00\n",
       "weeks_on_chart     2.45\n",
       "streams            7.35\n",
       "duration           0.35\n",
       "release_year       5.45\n",
       "release_month      0.00\n",
       "trending_year      2.80\n",
       "trending_month     0.00\n",
       "days_to_trend     16.00\n",
       "dtype: float64"
      ]
     },
     "execution_count": 174,
     "metadata": {},
     "output_type": "execute_result"
    }
   ],
   "source": [
    "# Handle outliers using IQR\n",
    "Q1 = df[numerical_columns].quantile(0.25)\n",
    "Q3 = df[numerical_columns].quantile(0.75)\n",
    "IQR = Q3 - Q1\n",
    "\n",
    "# Define the lower and upper bounds for outliers\n",
    "lower_bound = Q1 - 1.5 * IQR\n",
    "upper_bound = Q3 + 1.5 * IQR\n",
    "\n",
    "# Propotion of outliers\n",
    "outliers = (df[numerical_columns] < lower_bound) | (df[numerical_columns] > upper_bound)\n",
    "outliers_ratio = outliers.mean() * 100\n",
    "print(\"Outliers ratio:\")\n",
    "outliers_ratio"
   ]
  },
  {
   "cell_type": "code",
   "execution_count": 175,
   "metadata": {},
   "outputs": [
    {
     "data": {
      "image/png": "[encoded data removed]",
      "text/plain": [
       "<Figure size 640x480 with 1 Axes>"
      ]
     },
     "metadata": {},
     "output_type": "display_data"
    },
    {
     "data": {
      "image/png": "[encoded data removed]",
      "text/plain": [
       "<Figure size 640x480 with 1 Axes>"
      ]
     },
     "metadata": {},
     "output_type": "display_data"
    },
    {
     "data": {
      "image/png": "[encoded data removed]",
      "text/plain": [
       "<Figure size 640x480 with 1 Axes>"
      ]
     },
     "metadata": {},
     "output_type": "display_data"
    },
    {
     "data": {
      "image/png": "[encoded data removed]",
      "text/plain": [
       "<Figure size 640x480 with 1 Axes>"
      ]
     },
     "metadata": {},
     "output_type": "display_data"
    },
    {
     "data": {
      "image/png": "[encoded data removed]",
      "text/plain": [
       "<Figure size 640x480 with 1 Axes>"
      ]
     },
     "metadata": {},
     "output_type": "display_data"
    },
    {
     "data": {
      "image/png": "[encoded data removed]",
      "text/plain": [
       "<Figure size 640x480 with 1 Axes>"
      ]
     },
     "metadata": {},
     "output_type": "display_data"
    },
    {
     "data": {
      "image/png": "[encoded data removed]",
      "text/plain": [
       "<Figure size 640x480 with 1 Axes>"
      ]
     },
     "metadata": {},
     "output_type": "display_data"
    },
    {
     "data": {
      "image/png": "[encoded data removed]",
      "text/plain": [
       "<Figure size 640x480 with 1 Axes>"
      ]
     },
     "metadata": {},
     "output_type": "display_data"
    },
    {
     "data": {
      "image/png": "[encoded data removed]",
      "text/plain": [
       "<Figure size 640x480 with 1 Axes>"
      ]
     },
     "metadata": {},
     "output_type": "display_data"
    },
    {
     "data": {
      "image/png": "[encoded data removed]",
      "text/plain": [
       "<Figure size 640x480 with 1 Axes>"
      ]
     },
     "metadata": {},
     "output_type": "display_data"
    },
    {
     "data": {
      "image/png": "[encoded data removed]",
      "text/plain": [
       "<Figure size 640x480 with 1 Axes>"
      ]
     },
     "metadata": {},
     "output_type": "display_data"
    }
   ],
   "source": [
    "for i, col in enumerate(numerical_columns):\n",
    "    sns.boxplot(x=df[col])\n",
    "    plt.title(f'Box Plot of {col}')\n",
    "    plt.xlabel(col)\n",
    "    plt.show()"
   ]
  },
  {
   "cell_type": "markdown",
   "metadata": {},
   "source": [
    "As we see, the dataset contains many outliers, especially in the `days_to_trend` column. We will Z-score normalization to normalize the data cause Z-score normalization is not sensitive to outliers. We just need to normalize the numerical columns because the categorical columns have been used one-hot encoding technique to encode them, so they are in the range [0, 1]."
   ]
  },
  {
   "cell_type": "code",
   "execution_count": 176,
   "metadata": {},
   "outputs": [
    {
     "data": {
      "text/html": [
       "<div>\n",
       "<style scoped>\n",
       "    .dataframe tbody tr th:only-of-type {\n",
       "        vertical-align: middle;\n",
       "    }\n",
       "\n",
       "    .dataframe tbody tr th {\n",
       "        vertical-align: top;\n",
       "    }\n",
       "\n",
       "    .dataframe thead th {\n",
       "        text-align: right;\n",
       "    }\n",
       "</style>\n",
       "<table border=\"1\" class=\"dataframe\">\n",
       "  <thead>\n",
       "    <tr style=\"text-align: right;\">\n",
       "      <th></th>\n",
       "      <th>rank</th>\n",
       "      <th>peak_rank</th>\n",
       "      <th>previous_rank</th>\n",
       "      <th>weeks_on_chart</th>\n",
       "      <th>streams</th>\n",
       "      <th>duration</th>\n",
       "      <th>release_year</th>\n",
       "      <th>release_month</th>\n",
       "      <th>trending_year</th>\n",
       "      <th>trending_month</th>\n",
       "      <th>days_to_trend</th>\n",
       "      <th>current_month</th>\n",
       "    </tr>\n",
       "  </thead>\n",
       "  <tbody>\n",
       "    <tr>\n",
       "      <th>1407</th>\n",
       "      <td>-1.602167</td>\n",
       "      <td>-0.779669</td>\n",
       "      <td>-1.373383</td>\n",
       "      <td>-0.853346</td>\n",
       "      <td>1.724493</td>\n",
       "      <td>1.183463</td>\n",
       "      <td>1.003777</td>\n",
       "      <td>-0.334721</td>\n",
       "      <td>0.889855</td>\n",
       "      <td>-0.331951</td>\n",
       "      <td>-0.443616</td>\n",
       "      <td>8</td>\n",
       "    </tr>\n",
       "    <tr>\n",
       "      <th>561</th>\n",
       "      <td>1.065225</td>\n",
       "      <td>3.230770</td>\n",
       "      <td>-1.525717</td>\n",
       "      <td>-1.027366</td>\n",
       "      <td>-0.474160</td>\n",
       "      <td>-0.829800</td>\n",
       "      <td>1.003777</td>\n",
       "      <td>-1.197775</td>\n",
       "      <td>0.889855</td>\n",
       "      <td>-0.928718</td>\n",
       "      <td>-0.441959</td>\n",
       "      <td>3</td>\n",
       "    </tr>\n",
       "    <tr>\n",
       "      <th>1922</th>\n",
       "      <td>0.389716</td>\n",
       "      <td>1.163277</td>\n",
       "      <td>0.403846</td>\n",
       "      <td>-0.287779</td>\n",
       "      <td>-0.225207</td>\n",
       "      <td>-0.347455</td>\n",
       "      <td>0.053680</td>\n",
       "      <td>1.391387</td>\n",
       "      <td>0.235790</td>\n",
       "      <td>0.563198</td>\n",
       "      <td>0.028686</td>\n",
       "      <td>10</td>\n",
       "    </tr>\n",
       "    <tr>\n",
       "      <th>305</th>\n",
       "      <td>0.095264</td>\n",
       "      <td>-0.680031</td>\n",
       "      <td>0.471550</td>\n",
       "      <td>-0.447298</td>\n",
       "      <td>-0.389846</td>\n",
       "      <td>-2.004202</td>\n",
       "      <td>0.528729</td>\n",
       "      <td>-0.910091</td>\n",
       "      <td>0.235790</td>\n",
       "      <td>-0.630335</td>\n",
       "      <td>-0.445273</td>\n",
       "      <td>2</td>\n",
       "    </tr>\n",
       "    <tr>\n",
       "      <th>629</th>\n",
       "      <td>-1.221111</td>\n",
       "      <td>-0.680031</td>\n",
       "      <td>-0.950234</td>\n",
       "      <td>-0.592315</td>\n",
       "      <td>0.198491</td>\n",
       "      <td>1.644835</td>\n",
       "      <td>0.528729</td>\n",
       "      <td>0.816018</td>\n",
       "      <td>0.235790</td>\n",
       "      <td>0.861582</td>\n",
       "      <td>-0.450245</td>\n",
       "      <td>4</td>\n",
       "    </tr>\n",
       "  </tbody>\n",
       "</table>\n",
       "</div>"
      ],
      "text/plain": [
       "          rank  peak_rank  previous_rank  weeks_on_chart   streams  duration  \\\n",
       "1407 -1.602167  -0.779669      -1.373383       -0.853346  1.724493  1.183463   \n",
       "561   1.065225   3.230770      -1.525717       -1.027366 -0.474160 -0.829800   \n",
       "1922  0.389716   1.163277       0.403846       -0.287779 -0.225207 -0.347455   \n",
       "305   0.095264  -0.680031       0.471550       -0.447298 -0.389846 -2.004202   \n",
       "629  -1.221111  -0.680031      -0.950234       -0.592315  0.198491  1.644835   \n",
       "\n",
       "      release_year  release_month  trending_year  trending_month  \\\n",
       "1407      1.003777      -0.334721       0.889855       -0.331951   \n",
       "561       1.003777      -1.197775       0.889855       -0.928718   \n",
       "1922      0.053680       1.391387       0.235790        0.563198   \n",
       "305       0.528729      -0.910091       0.235790       -0.630335   \n",
       "629       0.528729       0.816018       0.235790        0.861582   \n",
       "\n",
       "      days_to_trend current_month  \n",
       "1407      -0.443616             8  \n",
       "561       -0.441959             3  \n",
       "1922       0.028686            10  \n",
       "305       -0.445273             2  \n",
       "629       -0.450245             4  "
      ]
     },
     "execution_count": 176,
     "metadata": {},
     "output_type": "execute_result"
    }
   ],
   "source": [
    "standard_scaler = StandardScaler()\n",
    "df_cleaned = pd.DataFrame(standard_scaler.fit_transform(df[numerical_columns]), columns=numerical_columns)\n",
    "df_cleaned = pd.concat([df_cleaned, df.drop(columns=numerical_columns)], axis=1)\n",
    "df_cleaned.sample(5)"
   ]
  },
  {
   "cell_type": "markdown",
   "metadata": {},
   "source": [
    "## **Sample selection**\n",
    "<a id=\"3.4\"></a>\n",
    "Before modeling, we will split the dataset into training and testing sets. We will use 70% of the data for training and 30% for testing. We will use the `train_test_split` function from the `sklearn.model_selection` module to split the dataset. But to avoid the bias in the dataset, we will suffle the dataset.\n",
    "\n",
    "Our prediction target is `rank`, so we will split the dataset into two parts: `X` and `y`. `X` contains all columns except for the `rank` column, and `y` contains the `rank` column."
   ]
  },
  {
   "cell_type": "code",
   "execution_count": 177,
   "metadata": {},
   "outputs": [
    {
     "name": "stdout",
     "output_type": "stream",
     "text": [
      "Training set shape: (1400, 11)\n",
      "Testing set shape: (600, 11)\n"
     ]
    }
   ],
   "source": [
    "# Feature and target\n",
    "X = df_cleaned.drop(columns=['streams'])\n",
    "y = df_cleaned['streams']\n",
    "\n",
    "# Split the data into training and testing sets\n",
    "X_train, X_test, y_train, y_test = train_test_split(X, y, test_size=0.3, random_state=42)\n",
    "\n",
    "print(\"Training set shape:\", X_train.shape)\n",
    "print(\"Testing set shape:\", X_test.shape)"
   ]
  },
  {
   "cell_type": "markdown",
   "metadata": {},
   "source": [
    "# **Data Modeling**\n",
    "<a id=\"4\"></a>"
   ]
  },
  {
   "cell_type": "markdown",
   "metadata": {},
   "source": [
    "## **Bagging**\n",
    "<a id=\"4.3\"></a>\n",
    "Firse we will initialize the base estimator as a decision tree and initialize the bagging model."
   ]
  },
  {
   "cell_type": "code",
   "execution_count": 178,
   "metadata": {},
   "outputs": [],
   "source": [
    "# Base estimator\n",
    "dtree = DecisionTreeRegressor(random_state=42)\n",
    "bagging_model = BaggingRegressor(base_estimator=dtree)"
   ]
  },
  {
   "cell_type": "markdown",
   "metadata": {},
   "source": [
    "Then, we will define the hyperparameters for the bagging model and using `RandomizedSearchCV` to find the best hyperparameters for the model. After that, we will train the model with the best hyperparameters."
   ]
  },
  {
   "cell_type": "code",
   "execution_count": 179,
   "metadata": {},
   "outputs": [
    {
     "name": "stdout",
     "output_type": "stream",
     "text": [
      "Best parameters for Bagging Regressor: {'n_estimators': 100, 'max_samples': 1.0, 'max_features': 1.0, 'bootstrap_features': False, 'bootstrap': True, 'base_estimator__min_samples_split': 10, 'base_estimator__min_samples_leaf': 2, 'base_estimator__max_depth': 50}\n",
      "Bagging Regressor Training Time: 7.870612382888794\n",
      "Bagging Regressor Accuracy: 0.8375297943732551\n"
     ]
    }
   ],
   "source": [
    "param_grid = {\n",
    "    'base_estimator__max_depth': [None, 10, 20, 30, 40, 50],\n",
    "    'base_estimator__min_samples_split': [2, 5, 10],\n",
    "    'base_estimator__min_samples_leaf': [1, 2, 4],\n",
    "    'n_estimators': [10, 50, 100, 200],\n",
    "    'max_samples': [0.5, 0.7, 1.0],\n",
    "    'max_features': [0.5, 0.7, 1.0],\n",
    "    'bootstrap': [True, False],\n",
    "    'bootstrap_features': [True, False]\n",
    "}\n",
    "\n",
    "bagging_random_search = RandomizedSearchCV(estimator=bagging_model, param_distributions=param_grid, n_iter=10, cv=5, n_jobs=-1, random_state=42)\n",
    "time_start = time.time()\n",
    "bagging_random_search.fit(X_train, y_train)\n",
    "time_end = time.time()\n",
    "bagging_time = time_end - time_start\n",
    "best_bagging_params, best_bagging_model = bagging_random_search.best_params_, bagging_random_search.best_estimator_\n",
    "\n",
    "# Predict the target\n",
    "y_pred = best_bagging_model.predict(X_test)\n",
    "\n",
    "print(\"Best parameters for Bagging Regressor:\", best_bagging_params)\n",
    "print(\"Bagging Regressor Training Time:\", bagging_time)\n",
    "print(\"Bagging Regressor Accuracy:\", best_bagging_model.score(X_test, y_test))"
   ]
  },
  {
   "cell_type": "code",
   "execution_count": 180,
   "metadata": {},
   "outputs": [
    {
     "data": {
      "image/png": "[encoded data removed]",
      "text/plain": [
       "<Figure size 1000x600 with 1 Axes>"
      ]
     },
     "metadata": {},
     "output_type": "display_data"
    }
   ],
   "source": [
    "# Calculate the streams of the true and predicted values\n",
    "true_streams = np.argsort(np.argsort(y_test))\n",
    "pred_streams = np.argsort(np.argsort(y_pred))\n",
    "\n",
    "# Plot true streams vs predicted streams\n",
    "plt.figure(figsize=(10, 6))\n",
    "plt.scatter(true_streams, pred_streams, alpha=0.5)\n",
    "plt.plot([min(true_streams), max(true_streams)], [min(true_streams), max(true_streams)], color='red', linestyle='--')\n",
    "plt.xlabel('True streams')\n",
    "plt.ylabel('Predicted streams')\n",
    "plt.title('True streams vs Predicted streams')\n",
    "plt.show()"
   ]
  },
  {
   "cell_type": "code",
   "execution_count": 181,
   "metadata": {},
   "outputs": [],
   "source": [
    "# # Calculate the ranks of the true and predicted values\n",
    "# true_ranks = np.argsort(np.argsort(y_test))\n",
    "# pred_ranks = np.argsort(np.argsort(y_pred))\n",
    "\n",
    "# # Plot true ranks vs predicted ranks\n",
    "# plt.figure(figsize=(10, 6))\n",
    "# plt.scatter(true_ranks, pred_ranks, alpha=0.5)\n",
    "# plt.plot([min(true_ranks), max(true_ranks)], [min(true_ranks), max(true_ranks)], color='red', linestyle='--')\n",
    "# plt.xlabel('True Ranks')\n",
    "# plt.ylabel('Predicted Ranks')\n",
    "# plt.title('True Ranks vs Predicted Ranks')\n",
    "# plt.show()"
   ]
  }
 ],
 "metadata": {
  "kernelspec": {
   "display_name": "min_ds-env2",
   "language": "python",
   "name": "python3"
  },
  "language_info": {
   "codemirror_mode": {
    "name": "ipython",
    "version": 3
   },
   "file_extension": ".py",
   "mimetype": "text/x-python",
   "name": "python",
   "nbconvert_exporter": "python",
   "pygments_lexer": "ipython3",
   "version": "3.10.15"
  }
 },
 "nbformat": 4,
 "nbformat_minor": 2
}
