{
 "cells": [
  {
   "cell_type": "markdown",
   "metadata": {},
   "source": [
    "<div style=\"font-family: Arial, Helvetica, sans-serif;\">\n",
    "    <div style=\"display: flex;padding-top: 20px\">\n",
    "        <div><strong>Course:</strong> Introduction to Data Science</div>\n",
    "    </div>\n",
    "    <div style=\"display: flex;padding-top: 20px\">\n",
    "        <div style=\"padding-right: 10px;\"><strong>Class:</strong> KHDL1</div>\n",
    "        <div></div>\n",
    "    </div>\n",
    "    <div style=\"display: flex;padding-top: 20px\">\n",
    "        <div style=\"padding-right: 10px;\"><strong>Group:</strong> 11 - HAHA</div>\n",
    "    </div>\n",
    "    <div>\n",
    "        <div style=\"display: flex;padding-top: 20px\">\n",
    "            <div style=\"padding-right: 10px;\"><strong>Members:</strong></div>\n",
    "            <div></div>\n",
    "        </div>\n",
    "        <table style=\"font-size: 15px; display:flex;padding-top: 20px\">\n",
    "            <tr>\n",
    "                <th>No.</th>\n",
    "                <th>Student ID</th>\n",
    "                <th>Name</th>\n",
    "            </tr>\n",
    "            <tr>\n",
    "                <td>1</td>\n",
    "                <td>22127008</td>\n",
    "                <td style=\"text-align:left;\">Đặng Châu Anh</td>\n",
    "            </tr>\n",
    "            <tr>\n",
    "                <td>2</td>\n",
    "                <td>22127014</td>\n",
    "                <td style=\"text-align:left;\">Nguyễn Kim Anh</td>\n",
    "            </tr>\n",
    "            <tr>\n",
    "                <td>3</td>\n",
    "                <td>22127147</td>\n",
    "                <td style=\"text-align:left;\">Đỗ Minh Huy</td>\n",
    "            </tr>\n",
    "            <tr>\n",
    "                <td>4</td>\n",
    "                <td>22127170</td>\n",
    "                <td style=\"text-align:left;\">Trần Dịu Huyền</td>\n",
    "            </tr>\n",
    "        </table>\n",
    "    </div>\n",
    "    <div style=\"font-size: 25px ;font-weight: 800; text-align: center;padding-top: 20px;\">FINAL PROJECT</div>\n",
    "    <div style=\"font-size: 20px ;font-weight: 800; text-align: center;padding-top: 20px;\">SPOTIFY 2024 REWIND - DATA MODELING</div>\n",
    "</div>"
   ]
  },
  {
   "cell_type": "markdown",
   "metadata": {},
   "source": [
    "# **Table of content**\n",
    "1. [Import package](#1)\n",
    "2. [Load data](#2)\n",
    "3. [Data preprocessing](#3)\n",
    "\n",
    "    3.1. [Feature selection](#3.1)\n",
    "    \n",
    "    3.2. [Feature selection](#3.2)\n",
    "    \n",
    "4. [Data modeling](#4)"
   ]
  },
  {
   "cell_type": "markdown",
   "metadata": {},
   "source": [
    "# **Data Modeling**\n",
    "## **Import packages**\n",
    "<a id=\"1\"></a>"
   ]
  },
  {
   "cell_type": "code",
   "execution_count": 74,
   "metadata": {},
   "outputs": [],
   "source": [
    "import pandas as pd\n",
    "import numpy as np\n",
    "import matplotlib.pyplot as plt\n",
    "import seaborn as sns\n",
    "from sklearn.model_selection import train_test_split"
   ]
  },
  {
   "cell_type": "markdown",
   "metadata": {},
   "source": [
    "## **Load data**\n",
    "<a id=\"2\"></a>\n",
    "Read data from 9 csv data files in folder `spotify_charts_cleaned_final` into a DataFrame.\n"
   ]
  },
  {
   "cell_type": "code",
   "execution_count": 75,
   "metadata": {},
   "outputs": [
    {
     "data": {
      "text/html": [
       "<div>\n",
       "<style scoped>\n",
       "    .dataframe tbody tr th:only-of-type {\n",
       "        vertical-align: middle;\n",
       "    }\n",
       "\n",
       "    .dataframe tbody tr th {\n",
       "        vertical-align: top;\n",
       "    }\n",
       "\n",
       "    .dataframe thead th {\n",
       "        text-align: right;\n",
       "    }\n",
       "</style>\n",
       "<table border=\"1\" class=\"dataframe\">\n",
       "  <thead>\n",
       "    <tr style=\"text-align: right;\">\n",
       "      <th></th>\n",
       "      <th>rank</th>\n",
       "      <th>artist_names</th>\n",
       "      <th>track_name</th>\n",
       "      <th>source</th>\n",
       "      <th>peak_rank</th>\n",
       "      <th>previous_rank</th>\n",
       "      <th>weeks_on_chart</th>\n",
       "      <th>streams</th>\n",
       "      <th>month</th>\n",
       "      <th>release_date</th>\n",
       "      <th>duration</th>\n",
       "      <th>rank_history</th>\n",
       "    </tr>\n",
       "  </thead>\n",
       "  <tbody>\n",
       "    <tr>\n",
       "      <th>0</th>\n",
       "      <td>1</td>\n",
       "      <td>Jung Kook, Latto</td>\n",
       "      <td>Seven (feat. Latto) (Explicit Ver.)</td>\n",
       "      <td>BIGHIT MUSIC</td>\n",
       "      <td>1</td>\n",
       "      <td>1</td>\n",
       "      <td>29</td>\n",
       "      <td>1178606</td>\n",
       "      <td>1</td>\n",
       "      <td>2023-11-03</td>\n",
       "      <td>184.0</td>\n",
       "      <td>[('2024/01/04', 1)]</td>\n",
       "    </tr>\n",
       "    <tr>\n",
       "      <th>1</th>\n",
       "      <td>2</td>\n",
       "      <td>Wren Evans, itsnk</td>\n",
       "      <td>Từng Quen</td>\n",
       "      <td>Universal Music Indochina</td>\n",
       "      <td>1</td>\n",
       "      <td>2</td>\n",
       "      <td>14</td>\n",
       "      <td>1087520</td>\n",
       "      <td>1</td>\n",
       "      <td>2023-12-17</td>\n",
       "      <td>175.0</td>\n",
       "      <td>[('2024/01/11', 4), ('2024/01/25', 2)]</td>\n",
       "    </tr>\n",
       "    <tr>\n",
       "      <th>2</th>\n",
       "      <td>3</td>\n",
       "      <td>Wren Evans, itsnk</td>\n",
       "      <td>Tò Te Tí</td>\n",
       "      <td>Universal Music Indochina</td>\n",
       "      <td>3</td>\n",
       "      <td>4</td>\n",
       "      <td>7</td>\n",
       "      <td>1036739</td>\n",
       "      <td>1</td>\n",
       "      <td>2023-12-17</td>\n",
       "      <td>195.0</td>\n",
       "      <td>[('2024/01/04', 4), ('2024/01/11', 3), ('2024/...</td>\n",
       "    </tr>\n",
       "    <tr>\n",
       "      <th>3</th>\n",
       "      <td>4</td>\n",
       "      <td>VSOUL, RPT MCK, Obito, Ronboogz, Boyzed</td>\n",
       "      <td>Buồn Hay Vui (feat. RPT MCK, Obito, Ronboogz &amp;...</td>\n",
       "      <td>12 trái lê</td>\n",
       "      <td>3</td>\n",
       "      <td>5</td>\n",
       "      <td>6</td>\n",
       "      <td>919584</td>\n",
       "      <td>1</td>\n",
       "      <td>2023-12-25</td>\n",
       "      <td>292.0</td>\n",
       "      <td>[('2024/01/04', 3), ('2024/01/11', 5), ('2024/...</td>\n",
       "    </tr>\n",
       "    <tr>\n",
       "      <th>4</th>\n",
       "      <td>5</td>\n",
       "      <td>Vũ., Dear Jane</td>\n",
       "      <td>Những Lời Hứa Bỏ Quên</td>\n",
       "      <td>WM Vietnam</td>\n",
       "      <td>1</td>\n",
       "      <td>3</td>\n",
       "      <td>7</td>\n",
       "      <td>856107</td>\n",
       "      <td>1</td>\n",
       "      <td>2023-12-14</td>\n",
       "      <td>236.0</td>\n",
       "      <td>[('2024/01/04', 2), ('2024/01/25', 3)]</td>\n",
       "    </tr>\n",
       "  </tbody>\n",
       "</table>\n",
       "</div>"
      ],
      "text/plain": [
       "   rank                             artist_names  \\\n",
       "0     1                         Jung Kook, Latto   \n",
       "1     2                        Wren Evans, itsnk   \n",
       "2     3                        Wren Evans, itsnk   \n",
       "3     4  VSOUL, RPT MCK, Obito, Ronboogz, Boyzed   \n",
       "4     5                           Vũ., Dear Jane   \n",
       "\n",
       "                                          track_name  \\\n",
       "0                Seven (feat. Latto) (Explicit Ver.)   \n",
       "1                                          Từng Quen   \n",
       "2                                           Tò Te Tí   \n",
       "3  Buồn Hay Vui (feat. RPT MCK, Obito, Ronboogz &...   \n",
       "4                              Những Lời Hứa Bỏ Quên   \n",
       "\n",
       "                      source  peak_rank  previous_rank  weeks_on_chart  \\\n",
       "0               BIGHIT MUSIC          1              1              29   \n",
       "1  Universal Music Indochina          1              2              14   \n",
       "2  Universal Music Indochina          3              4               7   \n",
       "3                 12 trái lê          3              5               6   \n",
       "4                 WM Vietnam          1              3               7   \n",
       "\n",
       "   streams  month release_date  duration  \\\n",
       "0  1178606      1   2023-11-03     184.0   \n",
       "1  1087520      1   2023-12-17     175.0   \n",
       "2  1036739      1   2023-12-17     195.0   \n",
       "3   919584      1   2023-12-25     292.0   \n",
       "4   856107      1   2023-12-14     236.0   \n",
       "\n",
       "                                        rank_history  \n",
       "0                                [('2024/01/04', 1)]  \n",
       "1             [('2024/01/11', 4), ('2024/01/25', 2)]  \n",
       "2  [('2024/01/04', 4), ('2024/01/11', 3), ('2024/...  \n",
       "3  [('2024/01/04', 3), ('2024/01/11', 5), ('2024/...  \n",
       "4             [('2024/01/04', 2), ('2024/01/25', 3)]  "
      ]
     },
     "execution_count": 75,
     "metadata": {},
     "output_type": "execute_result"
    }
   ],
   "source": [
    "df = pd.read_csv('cleaned_data/spotify_charts_cleaned_final.csv')\n",
    "df.head()"
   ]
  },
  {
   "cell_type": "markdown",
   "metadata": {},
   "source": [
    "# **Data Preprocessing**\n",
    "<a id=\"3\"></a>\n",
    "Data is already cleaned, so we don't need to clean it again. We will do some preprocessing steps to prepare data for modeling."
   ]
  },
  {
   "cell_type": "markdown",
   "metadata": {},
   "source": [
    "## **Feature Selection**\n",
    "<a id=\"3.1\"></a>\n",
    "\n",
    "For the purpose of this project, we will drop out unnecessary columns and keep only the columns that are useful for modeling. So as the first step, we will drop out the unnecessary columns: `source`. Because in Vietnam, we have too many music sources, and it is not necessary to keep this column.\n"
   ]
  },
  {
   "cell_type": "code",
   "execution_count": 76,
   "metadata": {},
   "outputs": [
    {
     "name": "stdout",
     "output_type": "stream",
     "text": [
      "<class 'pandas.core.frame.DataFrame'>\n",
      "RangeIndex: 2000 entries, 0 to 1999\n",
      "Data columns (total 11 columns):\n",
      " #   Column          Non-Null Count  Dtype  \n",
      "---  ------          --------------  -----  \n",
      " 0   rank            2000 non-null   int64  \n",
      " 1   artist_names    2000 non-null   object \n",
      " 2   track_name      2000 non-null   object \n",
      " 3   peak_rank       2000 non-null   int64  \n",
      " 4   previous_rank   2000 non-null   int64  \n",
      " 5   weeks_on_chart  2000 non-null   int64  \n",
      " 6   streams         2000 non-null   int64  \n",
      " 7   month           2000 non-null   int64  \n",
      " 8   release_date    2000 non-null   object \n",
      " 9   duration        2000 non-null   float64\n",
      " 10  rank_history    2000 non-null   object \n",
      "dtypes: float64(1), int64(6), object(4)\n",
      "memory usage: 172.0+ KB\n"
     ]
    }
   ],
   "source": [
    "df = df.drop(columns=['source'])\n",
    "df.info()"
   ]
  },
  {
   "cell_type": "markdown",
   "metadata": {},
   "source": [
    "As we see in `df.info()`, `release_date` is an object type, so we need to convert it to datetime type. Moreover, we also have the first date that the rank fluctuates in `rank_history`, so we need to extract the first date from `rank_history` as the `trending_date`. But we will not set two directly, we will calculate the difference between `trending_date` and `release_date` to get the `days_to_trend` column. This column will help us to know how many days it takes for a song to be on the chart after its release date. Furthermore, we will also extract the the month and year from both `release_date`, `trending_date` to get `release_month`, `release_year` and `trending_month`, `trending_year` respectively. These columns will help us to know the month and year of the release date and the trending date of a song."
   ]
  },
  {
   "cell_type": "code",
   "execution_count": 77,
   "metadata": {},
   "outputs": [],
   "source": [
    "def get_first_trending_date(row):\n",
    "    date = row.split(', ')[0]\n",
    "    date = date[2:-1]\n",
    "    return date\n",
    "\n",
    "# Convert release_date columns to datetime\n",
    "df['release_date'] = pd.to_datetime(df['release_date'])\n",
    "\n",
    "# Get the first trending date and convert it to datetime\n",
    "df['trending_date'] = df['rank_history'].apply(lambda x: get_first_trending_date(x))\n",
    "df['trending_date'] = pd.to_datetime(df['trending_date'])"
   ]
  },
  {
   "cell_type": "markdown",
   "metadata": {},
   "source": [
    "Before do further steps, we will check the missing values in the dataset. If there are any missing values, we will fill them with the first date of the month of that song in `month` column for `trending_date`. Because we can't know the exact date of the song, but we can know the month of the song."
   ]
  },
  {
   "cell_type": "code",
   "execution_count": 78,
   "metadata": {},
   "outputs": [
    {
     "name": "stdout",
     "output_type": "stream",
     "text": [
      "Missing values for trending date: 222 (11.10%)\n",
      "Missing values for release date: 0 (0.00%)\n"
     ]
    }
   ],
   "source": [
    "missing_values_trending = df['trending_date'].isna().sum()\n",
    "missing_ratio_trending = missing_values_trending / len(df) * 100\n",
    "print(f'Missing values for trending date: {missing_values_trending} ({missing_ratio_trending:.2f}%)')\n",
    "\n",
    "missing_values_release = df['release_date'].isna().sum()\n",
    "missing_ratio_release = missing_values_release / len(df) * 100\n",
    "print(f'Missing values for release date: {missing_values_release} ({missing_ratio_release:.2f}%)')"
   ]
  },
  {
   "cell_type": "markdown",
   "metadata": {},
   "source": [
    "We found that there are some missing values in `trending_date`. So we will fill them with the first date of the month of that song in `month` column."
   ]
  },
  {
   "cell_type": "code",
   "execution_count": 79,
   "metadata": {},
   "outputs": [
    {
     "data": {
      "text/plain": [
       "0"
      ]
     },
     "execution_count": 79,
     "metadata": {},
     "output_type": "execute_result"
    }
   ],
   "source": [
    "for index, row in df.iterrows():\n",
    "    if pd.isna(row['trending_date']):\n",
    "        trending_date = '2024' + '/' + str(row['month']) + '/' + '01'\n",
    "        df.at[index, 'trending_date'] = trending_date\n",
    "    \n",
    "df['trending_date'].isna().sum()"
   ]
  },
  {
   "cell_type": "markdown",
   "metadata": {},
   "source": [
    "Now, we will change `trending_date` to datetime type and extract the month and year from `release_date`, `trending_date` to get `release_month` and `release_year` columns, `trending_month` and `trending_year` columns. Then we will calculate the difference between `trending_date` and `release_date` to get the `days_to_trend` column, rename the `month` column to `current_month` to avoid confusion."
   ]
  },
  {
   "cell_type": "code",
   "execution_count": 80,
   "metadata": {},
   "outputs": [],
   "source": [
    "# Convert trending_date columns to datetime\n",
    "df['trending_date'] = pd.to_datetime(df['trending_date'])\n",
    "\n",
    "# Split release_time into year, month\n",
    "df['release_year'] = df['release_date'].dt.year\n",
    "df['release_month'] = df['release_date'].dt.month\n",
    "\n",
    "# Split trending_time into year, month\n",
    "df['trending_year'] = df['trending_date'].dt.year\n",
    "df['trending_month'] = df['trending_date'].dt.month\n",
    "\n",
    "# Days to trend\n",
    "df['days_to_trend'] = (df['trending_date'] - df['release_date']).dt.days\n",
    "\n",
    "# Rename `month` column to `current_month`\n",
    "df = df.rename(columns={'month': 'current_month'})"
   ]
  },
  {
   "cell_type": "markdown",
   "metadata": {},
   "source": [
    "\n",
    "Finally, we will drop out the `release_date`, `trending date` and `rank_history` columns because we don't need them anymore."
   ]
  },
  {
   "cell_type": "code",
   "execution_count": 81,
   "metadata": {},
   "outputs": [],
   "source": [
    "df = df.drop(columns=['release_date', 'trending_date', 'rank_history'])"
   ]
  },
  {
   "cell_type": "markdown",
   "metadata": {},
   "source": [
    "And, this is the final dataset after feature selection."
   ]
  },
  {
   "cell_type": "code",
   "execution_count": 82,
   "metadata": {},
   "outputs": [
    {
     "data": {
      "text/html": [
       "<div>\n",
       "<style scoped>\n",
       "    .dataframe tbody tr th:only-of-type {\n",
       "        vertical-align: middle;\n",
       "    }\n",
       "\n",
       "    .dataframe tbody tr th {\n",
       "        vertical-align: top;\n",
       "    }\n",
       "\n",
       "    .dataframe thead th {\n",
       "        text-align: right;\n",
       "    }\n",
       "</style>\n",
       "<table border=\"1\" class=\"dataframe\">\n",
       "  <thead>\n",
       "    <tr style=\"text-align: right;\">\n",
       "      <th></th>\n",
       "      <th>rank</th>\n",
       "      <th>artist_names</th>\n",
       "      <th>track_name</th>\n",
       "      <th>peak_rank</th>\n",
       "      <th>previous_rank</th>\n",
       "      <th>weeks_on_chart</th>\n",
       "      <th>streams</th>\n",
       "      <th>current_month</th>\n",
       "      <th>duration</th>\n",
       "      <th>release_year</th>\n",
       "      <th>release_month</th>\n",
       "      <th>trending_year</th>\n",
       "      <th>trending_month</th>\n",
       "      <th>days_to_trend</th>\n",
       "    </tr>\n",
       "  </thead>\n",
       "  <tbody>\n",
       "    <tr>\n",
       "      <th>1909</th>\n",
       "      <td>110</td>\n",
       "      <td>RPT MCK, tlinh</td>\n",
       "      <td>Chỉ Một Đêm Nữa Thôi</td>\n",
       "      <td>9</td>\n",
       "      <td>108</td>\n",
       "      <td>87</td>\n",
       "      <td>219038</td>\n",
       "      <td>10</td>\n",
       "      <td>142.0</td>\n",
       "      <td>2023</td>\n",
       "      <td>3</td>\n",
       "      <td>2023</td>\n",
       "      <td>10</td>\n",
       "      <td>217</td>\n",
       "    </tr>\n",
       "    <tr>\n",
       "      <th>1259</th>\n",
       "      <td>60</td>\n",
       "      <td>ANH TRAI \"SAY HI\", Quân A.P, HURRYKNG, Hùng Huỳnh</td>\n",
       "      <td>ĐẦU ĐỘI SỪNG (feat. Quân A.P, HURRYKNG &amp; Hùng ...</td>\n",
       "      <td>60</td>\n",
       "      <td>61</td>\n",
       "      <td>3</td>\n",
       "      <td>256458</td>\n",
       "      <td>7</td>\n",
       "      <td>214.0</td>\n",
       "      <td>2024</td>\n",
       "      <td>7</td>\n",
       "      <td>2024</td>\n",
       "      <td>7</td>\n",
       "      <td>3</td>\n",
       "    </tr>\n",
       "    <tr>\n",
       "      <th>345</th>\n",
       "      <td>146</td>\n",
       "      <td>Ngọt, Mạc Mai Sương</td>\n",
       "      <td>Đá tan</td>\n",
       "      <td>55</td>\n",
       "      <td>193</td>\n",
       "      <td>34</td>\n",
       "      <td>136521</td>\n",
       "      <td>2</td>\n",
       "      <td>202.0</td>\n",
       "      <td>2022</td>\n",
       "      <td>11</td>\n",
       "      <td>2024</td>\n",
       "      <td>2</td>\n",
       "      <td>447</td>\n",
       "    </tr>\n",
       "    <tr>\n",
       "      <th>1064</th>\n",
       "      <td>65</td>\n",
       "      <td>RPT Orijinn, Ronboogz</td>\n",
       "      <td>Don't Côi</td>\n",
       "      <td>3</td>\n",
       "      <td>62</td>\n",
       "      <td>80</td>\n",
       "      <td>230282</td>\n",
       "      <td>6</td>\n",
       "      <td>149.0</td>\n",
       "      <td>2022</td>\n",
       "      <td>11</td>\n",
       "      <td>2023</td>\n",
       "      <td>6</td>\n",
       "      <td>193</td>\n",
       "    </tr>\n",
       "    <tr>\n",
       "      <th>1738</th>\n",
       "      <td>139</td>\n",
       "      <td>W/N, 267</td>\n",
       "      <td>id thang máy (feat. 267)</td>\n",
       "      <td>10</td>\n",
       "      <td>114</td>\n",
       "      <td>9</td>\n",
       "      <td>170681</td>\n",
       "      <td>9</td>\n",
       "      <td>131.0</td>\n",
       "      <td>2024</td>\n",
       "      <td>7</td>\n",
       "      <td>2024</td>\n",
       "      <td>9</td>\n",
       "      <td>36</td>\n",
       "    </tr>\n",
       "  </tbody>\n",
       "</table>\n",
       "</div>"
      ],
      "text/plain": [
       "      rank                                       artist_names  \\\n",
       "1909   110                                     RPT MCK, tlinh   \n",
       "1259    60  ANH TRAI \"SAY HI\", Quân A.P, HURRYKNG, Hùng Huỳnh   \n",
       "345    146                                Ngọt, Mạc Mai Sương   \n",
       "1064    65                              RPT Orijinn, Ronboogz   \n",
       "1738   139                                           W/N, 267   \n",
       "\n",
       "                                             track_name  peak_rank  \\\n",
       "1909                               Chỉ Một Đêm Nữa Thôi          9   \n",
       "1259  ĐẦU ĐỘI SỪNG (feat. Quân A.P, HURRYKNG & Hùng ...         60   \n",
       "345                                              Đá tan         55   \n",
       "1064                                          Don't Côi          3   \n",
       "1738                           id thang máy (feat. 267)         10   \n",
       "\n",
       "      previous_rank  weeks_on_chart  streams  current_month  duration  \\\n",
       "1909            108              87   219038             10     142.0   \n",
       "1259             61               3   256458              7     214.0   \n",
       "345             193              34   136521              2     202.0   \n",
       "1064             62              80   230282              6     149.0   \n",
       "1738            114               9   170681              9     131.0   \n",
       "\n",
       "      release_year  release_month  trending_year  trending_month  \\\n",
       "1909          2023              3           2023              10   \n",
       "1259          2024              7           2024               7   \n",
       "345           2022             11           2024               2   \n",
       "1064          2022             11           2023               6   \n",
       "1738          2024              7           2024               9   \n",
       "\n",
       "      days_to_trend  \n",
       "1909            217  \n",
       "1259              3  \n",
       "345             447  \n",
       "1064            193  \n",
       "1738             36  "
      ]
     },
     "execution_count": 82,
     "metadata": {},
     "output_type": "execute_result"
    }
   ],
   "source": [
    "df.sample(5)"
   ]
  }
 ],
 "metadata": {
  "kernelspec": {
   "display_name": "min_ds-env2",
   "language": "python",
   "name": "python3"
  },
  "language_info": {
   "codemirror_mode": {
    "name": "ipython",
    "version": 3
   },
   "file_extension": ".py",
   "mimetype": "text/x-python",
   "name": "python",
   "nbconvert_exporter": "python",
   "pygments_lexer": "ipython3",
   "version": "3.10.15"
  }
 },
 "nbformat": 4,
 "nbformat_minor": 2
}
